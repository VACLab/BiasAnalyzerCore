{
 "cells": [
  {
   "cell_type": "markdown",
   "id": "fdc0d263",
   "metadata": {},
   "source": [
    "# Using BiasAnalyzer for Cohort Concept Prevalence Exploration\n",
    "\n",
    "This tutorial demonstrates how to use the `BiasAnalyzer` package to explore **concept prevalence** within a cohort - a key step in identifying potential biases during cohort selection. It complements the [Cohort Exploration Tutorial](./BiasAnalyzerCohortsTutorial.ipynb) by focusing specifically on analyzing which clincial concepts (e.g., diagnoses, procedures, medications) are most common in a selected cohort. In the OMOP (Observational Medical Outcomes Partnership) CDM (Common Data Model), a **concept** refers to a coded term from a standardized medical vocabulary, uniquely identified by a **concept ID**. All clinical events in OMOP, such as conditions, drug exposures, procedures, measurements, and events, are represented as concepts.\n",
    "\n",
    "---\n",
    "\n",
    "### Overview\n",
    "\n",
    "**Objective**:  \n",
    "Learn how to retrieve and analyze concept prevalence within a cohort using `BiasAnalyzer`.\n",
    "\n",
    "**Before You Begin**:  \n",
    "The `BiasAnalyzer` package is currently in active development and has not yet been officially released on PyPI.\n",
    "You can install it in one of the two ways:\n",
    "\n",
    "- **Install from GitHub (recommended during development)**:\n",
    "```bash\n",
    "pip install git+https://github.com/vaclab/BiasAnalyzerCore.git\n",
    "```\n",
    "- **Install from PyPI (once the pacakge is officially released)**:\n",
    "```bash\n",
    "pip install biasanalyzer\n",
    "```\n",
    "\n",
    "For full setup and usage instructions, refer to the [README](https://github.com/VACLab/BiasAnalyzerCore/blob/main/README.md).\n",
    "\n",
    "---\n"
   ]
  },
  {
   "cell_type": "markdown",
   "id": "bb028875",
   "metadata": {},
   "source": [
    "### Preparation for cohort concept prevalence exploration\n",
    "**Preparation step 1**: Import the `BIAS` class from the `api` module of the `BiasAnalyzer` package, create an object `bias` of the `BIAS` class, specify OMOP CDM database configurations on the `bias` object, and set OMOP CDM database to enable connection to the database. Refer to the [Cohort Exploration Tutorial](./BiasAnalyzerCohortsTutorial.ipynb) for more details."
   ]
  },
  {
   "cell_type": "code",
   "execution_count": 1,
   "id": "6dc76f46",
   "metadata": {},
   "outputs": [
    {
     "name": "stdout",
     "output_type": "stream",
     "text": [
      "configuration specified in ../config.yaml loaded successfully\n",
      "Connected to the OMOP CDM database (read-only).\n",
      "Cohort Definition table created.\n",
      "Cohort table created.\n"
     ]
    }
   ],
   "source": [
    "from biasanalyzer.api import BIAS\n",
    "\n",
    "bias = BIAS()\n",
    "\n",
    "bias.set_config('../config.yaml')\n",
    "\n",
    "bias.set_root_omop()"
   ]
  },
  {
   "cell_type": "markdown",
   "id": "8731e481",
   "metadata": {},
   "source": [
    "———————————————\n",
    "\n",
    "**Preparation step 2**: Create a cohort of young female COVID patients using the `create_cohort(cohort_name, cohort_description, query_or_yaml_file, created_by)` method on the `bias` object for cohort concept prevalence exploration. You'll pass the name of the cohort as the first argument, the description of the cohort as the second argument, a yaml file that specifies cohort inclusion and exclusion criteria or a cohort selection SQL query as the third argument, and the cohort owner's name indicating who owns or creates this cohort as the fourth argument. After the cohort is created, you can call `get_stats()` and `get_distributions()` methods on the returned `cohort_data` object to explore cohort statistics and distributions."
   ]
  },
  {
   "cell_type": "code",
   "execution_count": 2,
   "id": "51969248-f348-4f0d-914f-bb908183e3f1",
   "metadata": {},
   "outputs": [
    {
     "name": "stdout",
     "output_type": "stream",
     "text": [
      "template_path: /home/hongyi/BiasAnalyzer/biasanalyzer/sql_templates\n"
     ]
    },
    {
     "data": {
      "application/vnd.jupyter.widget-view+json": {
       "model_id": "30ceea47dcb24e238664b28753b68c09",
       "version_major": 2,
       "version_minor": 0
      },
      "text/plain": [
       "Cohort creation:   0%|                                                                                        …"
      ]
     },
     "metadata": {},
     "output_type": "display_data"
    },
    {
     "name": "stdout",
     "output_type": "stream",
     "text": [
      "configuration specified in ../tests/assets/cohort_creation/test_cohort_creation_condition_occurrence_config_study.yaml loaded successfully\n",
      "Cohort definition inserted successfully.\n",
      "Cohort Young female COVID patients successfully created.\n",
      "template_path: /home/hongyi/BiasAnalyzer/biasanalyzer/sql_templates\n",
      "cohort created successfully\n",
      "the cohort stats: [{'total_count': 10208, 'earliest_start_date': datetime.date(2020, 1, 18), 'latest_start_date': datetime.date(2020, 3, 30), 'earliest_end_date': datetime.date(2020, 2, 7), 'latest_end_date': datetime.date(2020, 5, 3), 'min_duration_days': 8, 'max_duration_days': 37, 'avg_duration_days': 24.25, 'median_duration': 24, 'stddev_duration': 7.2}]\n",
      "the cohort age stats: [{'total_count': 10208, 'min_age': 0, 'max_age': 20, 'avg_age': 10.94, 'median_age': 11, 'stddev_age': 5.92}]\n",
      "the cohort gender stats: [{'gender': 'female', 'gender_count': 10208, 'probability': 1.0}]\n",
      "the cohort race stats: [{'race': 'Other', 'race_count': 53, 'probability': 0.01}, {'race': 'Asian', 'race_count': 723, 'probability': 0.07}, {'race': 'Black or African American', 'race_count': 866, 'probability': 0.08}, {'race': 'White', 'race_count': 8566, 'probability': 0.84}]\n",
      "the cohort ethnicity stats: [{'ethnicity': 'other', 'ethnicity_count': 10208, 'probability': 1.0}]\n",
      "the cohort age discrete probability distribution: [{'age_bin': '0-10', 'bin_count': 4744, 'probability': 0.4647}, {'age_bin': '11-20', 'bin_count': 5464, 'probability': 0.5353}, {'age_bin': '21-30', 'bin_count': 0, 'probability': 0.0}, {'age_bin': '31-40', 'bin_count': 0, 'probability': 0.0}, {'age_bin': '41-50', 'bin_count': 0, 'probability': 0.0}, {'age_bin': '51-60', 'bin_count': 0, 'probability': 0.0}, {'age_bin': '61-70', 'bin_count': 0, 'probability': 0.0}, {'age_bin': '71-80', 'bin_count': 0, 'probability': 0.0}, {'age_bin': '81-90', 'bin_count': 0, 'probability': 0.0}, {'age_bin': '91+', 'bin_count': 0, 'probability': 0.0}]\n"
     ]
    }
   ],
   "source": [
    "# create a cohort with young female COVID patients\n",
    "cohort_data = bias.create_cohort('Young female COVID patients', \n",
    "                                  'A cohort of female COVID patients born between 2000 and 2020', \n",
    "                                  '../tests/assets/cohort_creation/test_cohort_creation_condition_occurrence_config_study.yaml', \n",
    "                                  'system')\n",
    "# get stats of the cohort\n",
    "cohort_stats = cohort_data.get_stats()\n",
    "print(f'the cohort stats: {cohort_stats}')\n",
    "cohort_age_stats = cohort_data.get_stats(\"age\")\n",
    "print(f'the cohort age stats: {cohort_age_stats}')\n",
    "cohort_gender_stats = cohort_data.get_stats(\"gender\")\n",
    "print(f'the cohort gender stats: {cohort_gender_stats}')\n",
    "cohort_race_stats = cohort_data.get_stats(\"race\")\n",
    "print(f'the cohort race stats: {cohort_race_stats}')\n",
    "cohort_ethnicity_stats = cohort_data.get_stats(\"ethnicity\")\n",
    "print(f'the cohort ethnicity stats: {cohort_ethnicity_stats}')\n",
    "# get discrete probability distribution of the age variable in the cohort\n",
    "cohort_age_distr = cohort_data.get_distributions('age')\n",
    "print(f'the cohort age discrete probability distribution: {cohort_age_distr}')"
   ]
  },
  {
   "cell_type": "markdown",
   "id": "53b4d2df-d18b-4312-8df3-fd69073c5eca",
   "metadata": {},
   "source": [
    "**Now that you have connected to your OMOP CDM database and created the `cohort_data` cohort object, you are ready to explore cohort concept prevalence.** \n",
    "\n",
    "---\n",
    "\n",
    "### Exploring cohort concept prevalence with concept hierarchy taken into account\n",
    "You can retrieve concept prevalence statistics for a cohort using the `get_concept_stats(concept_type='condition_occurrence', filter_count=0, vocab=None)` method on the `cohort_data` object. Each input argument to this method has a default value, so you can call the method without specifying all parameters.\n",
    "- The `concept_type` input argument specifies the OMOP domain to analyze. It must be one of the OMOP domain names: `condition_occurrence`, `drug_exposure`, `procedure_occurrence`, `visit_occurrence`, `measurement`, or `observation`.\n",
    "- The `vocab` input argument specifies the OMOP vocabulary ID to filter concepts by. If set to `None`, a default vocabulary is used based on the domain: `RxNorm` for `drug_exposure`, `LOINC` for `measurement`, and `SNOMED` for all other domains.\n",
    "- The `filter_count` input argument filters out concepts with fewer than this number of patients in the cohort. Set it to `0` to include all without filtering.\n",
    "This method helps identify the most prevalent clinical concepts in your cohort with concept hierarchy taken into account, which can reveal patterns or potential sources of selection bias in the cohort data.\n",
    "\n",
    "**Cohort condition occurrence concept prevalence**: \n",
    "The code block below demonstrates how to use the default concept_type and vocab parameters of the `get_concept_stats(filter_count=5000)` method to retrieve concept prevalence with concept hierarchical relationships taken into account. By default, it uses the `SNOMED` vocabulary for the `condition occurrence` domain. Concepts with fewer than 5000 patients are excluded as specified in the `filter_count` input parameter. The method returns a dictionary and a `ConceptHierarchy` object as detailed below:\n",
    "- The returned dictionary contains a key-value pair where the **key** is the `concept_type` (e.g., `condition_occurrence`) and the **value** is a list of concept dictionaries. Each concept dictionary in the list contains `concept_name`, `concept_code`, `count_in_cohort`, `prevalence`, `ancestor_concept_id`, and `descendant_concept_id` (i.e., the concept id corresponding to the item's concept name, code, count, and prevalence). These values allow you to explore which clinical concepts are most prevalent in your cohort with concept hierarchy taken into account and support deeper investigations into potential sources of selection bias.\n",
    "- The returned `ConceptHierarchy` object stores concept hierarchical relationsips with concept nodes indexed to allow quick information retrival of a concept node and provides hierarchy traversal methods for concept hierarchy navigation. This `ConceptHierarchy` object can be serialized into a dictionary via the `to_dict()` method of the `ConceptHierarchy` class to be loaded easily into a JSON object by downstream apps. The `to_dict(root_id: Optional[int] = None)` method enables downstream apps to retrieve the concept hierarchical information rooted at a specific input concept id or at the root of the concept hierarchy if no input concept id is provided. The returned dictionary contains a key-value pair where `hierarchy` is the key and the value is a list of concept dictionaries with each concept dictionary corresponding to each root of the concept hierarchy. Each concept dictionary in the list contains values corresponding to `concept_id`, `concept_name`, `concept_code`, `metrics`, `parent_ids`, and `children` keys, where `parent_ids` contains a list of parent concept ids, `children` contains a list of serialized, potentially nested, children concept nodes, and `metrics` is a dictionary with the following two keys:\n",
    "    - 'cohorts`: a dictionary with a cohort id as key and a sub-dictionary as value that includes the count and prevalence corresponding to the cohort. For example, `'cohorts': {'1': {'count': 10208, 'prevalence': 1.0}}}`. The `cohorts` dictionary may include metrics information for multiple cohorts.\n",
    "    - `union`: a dictionary including unioned counts and prevalence for the concept node over all cohorts included in the `cohorts` dictionary. For example, `'union': {'count': 10208, 'prevalence': 1.0}`. When there is only one cohort included, the union metric dictionary is the same as the single cohort metric dictionary. Refer to [Union of Cohort Concepts Over multiple Cohorts Tutorial](./BiasAnalyzerMultipleCohortConceptUnionTutorial.ipynb) for how to use this `union` method of `ConceptHierarchy` class for aggregating concept metrics over multiple cohorts.\n",
    "\n",
    "**Note** that this prevalence computation may take some time, especially for large cohorts. A progress bar will appear to indicate the progress of the prevalence calculation."
   ]
  },
  {
   "cell_type": "code",
   "execution_count": 3,
   "id": "b1415805-b065-40b8-b2cd-6db6f5f9ca41",
   "metadata": {
    "tags": []
   },
   "outputs": [
    {
     "data": {
      "application/vnd.jupyter.widget-view+json": {
       "model_id": "5d399784191343eaa2c1ff05f7ceeae8",
       "version_major": 2,
       "version_minor": 0
      },
      "text/plain": [
       "FloatProgress(value=0.0, layout=Layout(width='auto'), style=ProgressStyle(bar_color='black'))"
      ]
     },
     "metadata": {},
     "output_type": "display_data"
    },
    {
     "data": {
      "application/vnd.jupyter.widget-view+json": {
       "model_id": "3a7f887a22344f17b0d36dea1cf46344",
       "version_major": 2,
       "version_minor": 0
      },
      "text/plain": [
       "FloatProgress(value=0.0, layout=Layout(width='auto'), style=ProgressStyle(bar_color='black'))"
      ]
     },
     "metadata": {},
     "output_type": "display_data"
    },
    {
     "data": {
      "application/vnd.jupyter.widget-view+json": {
       "model_id": "c12bce06546d4666814620a40cef7cb0",
       "version_major": 2,
       "version_minor": 0
      },
      "text/plain": [
       "FloatProgress(value=0.0, layout=Layout(width='auto'), style=ProgressStyle(bar_color='black'))"
      ]
     },
     "metadata": {},
     "output_type": "display_data"
    },
    {
     "name": "stdout",
     "output_type": "stream",
     "text": [
      "                                 concept_name concept_code  count_in_cohort  prevalence  ancestor_concept_id  descendant_concept_id\n",
      "0                       Coronavirus infection    186747009            10208    1.000000               439676                 439676\n",
      "1                                     Disease     64572001            10208    1.000000              4274025                4274025\n",
      "2                            Clinical finding    404684003            10208    1.000000               441840                 441840\n",
      "3                       Coronavirus infection    186747009            10208    1.000000              4100065                 439676\n",
      "4                Disease due to Coronaviridae     27619001            10208    1.000000              4100065                4100065\n",
      "5                Disease due to Coronaviridae     27619001            10208    1.000000               440029                4100065\n",
      "6                   Disorder due to infection     40733004            10208    1.000000              4274025                 432250\n",
      "7                                    COVID-19    840539006            10208    1.000000               439676               37311061\n",
      "8                   Disorder due to infection     40733004            10208    1.000000               432250                 432250\n",
      "9                                     Disease     64572001            10208    1.000000               441840                4274025\n",
      "10                                   COVID-19    840539006            10208    1.000000             37311061               37311061\n",
      "11                              Viral disease     34014006            10208    1.000000               440029                 440029\n",
      "12                              Viral disease     34014006            10208    1.000000               432250                 440029\n",
      "13  Clinical history and observation findings    250171008             9150    0.896356              4094294                4094294\n",
      "14  Clinical history and observation findings    250171008             9150    0.896356               441840                4094294\n",
      "15  General finding of observation of patient    118222006             9149    0.896258              4094294                4041283\n",
      "16  General finding of observation of patient    118222006             9149    0.896258              4041283                4041283\n",
      "17                            Finding by site    118234003             9120    0.893417              4042140                4042140\n",
      "18                            Finding by site    118234003             9120    0.893417               441840                4042140\n",
      "19                 General body state finding     82832008             9080    0.889498              4221108                4221108\n",
      "20                 General body state finding     82832008             9080    0.889498              4041283                4221108\n",
      "21             Temperature-associated finding    301343009             8769    0.859032              4041283                4103474\n",
      "22             Temperature-associated finding    301343009             8769    0.859032              4103474                4103474\n",
      "23                  Abnormal body temperature    123979008             8650    0.847375              4022230                4047791\n",
      "24                        Vital signs finding    118227000             8650    0.847375              4221108                4042138\n",
      "25                   Body temperature finding    105723007             8650    0.847375              4042138                4022230\n",
      "26                        Vital signs finding    118227000             8650    0.847375              4042138                4042138\n",
      "27                   Body temperature finding    105723007             8650    0.847375              4103474                4022230\n",
      "28     Body temperature above reference range     50177009             8650    0.847375              4178904                4178904\n",
      "29                                      Fever    386661006             8650    0.847375               437663                 437663\n",
      "30     Body temperature above reference range     50177009             8650    0.847375              4047791                4178904\n",
      "31                   Body temperature finding    105723007             8650    0.847375              4022230                4022230\n",
      "32                  Abnormal body temperature    123979008             8650    0.847375              4047791                4047791\n",
      "33                                      Fever    386661006             8650    0.847375              4178904                 437663\n",
      "34                        Respiratory finding    106048009             7755    0.759698              4042140                4024567\n",
      "35                        Respiratory finding    106048009             7755    0.759698              4024567                4024567\n",
      "36                     Finding of body region    301857004             7115    0.697002              4199402                4199402\n",
      "37                     Finding of body region    301857004             7115    0.697002              4042140                4199402\n",
      "38                       Neurological finding    102957003             6659    0.652332              4011630                4011630\n",
      "39             Sensory nervous system finding    106147001             6659    0.652332              4011630                4024013\n",
      "40                       Neurological finding    102957003             6659    0.652332               441840                4011630\n",
      "41             Sensory nervous system finding    106147001             6659    0.652332              4024013                4024013\n",
      "42               Finding of sensation by site    699697007             6657    0.652136              4024013               44783587\n",
      "43               Finding of sensation by site    699697007             6657    0.652136              4042140               44783587\n",
      "44               Finding of sensation by site    699697007             6657    0.652136             44783587               44783587\n",
      "45                                      Cough     49727002             6596    0.646160              4267789                 254761\n",
      "46               Respiratory function finding    365852007             6596    0.646160              4024567                4267789\n",
      "47               Respiratory function finding    365852007             6596    0.646160              4267789                4267789\n",
      "48                                      Cough     49727002             6596    0.646160               254761                 254761\n",
      "49            Finding of head and neck region    118254002             6423    0.629212               255919                 255919\n",
      "50            Finding of head and neck region    118254002             6423    0.629212              4199402                 255919\n",
      "51                               Head finding    406122000             6391    0.626078               255919                4247371\n",
      "52                               Head finding    406122000             6391    0.626078              4247371                4247371\n",
      "53                   Digestive system finding    386617003             5953    0.583170              4042140                4302537\n",
      "54                   Digestive system finding    386617003             5953    0.583170              4302537                4302537\n",
      "55               Mouth and/or pharynx finding    249376008             5619    0.550451              4302537                4091363\n",
      "56               Mouth and/or pharynx finding    249376008             5619    0.550451               255919                4091363\n",
      "57               Mouth and/or pharynx finding    249376008             5619    0.550451              4091363                4091363\n",
      "58                     Finding of head region    298364001             5194    0.508817              4247371                4182161\n",
      "59                     Finding of head region    298364001             5194    0.508817              4182161                4182161\n",
      "returned cohort_concept_hierarchy object converted to dict: {'hierarchy': [{'concept_id': 441840, 'concept_name': 'Clinical finding', 'concept_code': '404684003', 'metrics': {'1': {'count': 10208, 'prevalence': 1.0}}, 'source_cohorts': [1], 'parent_ids': [], 'children': [{'concept_id': 4274025, 'concept_name': 'Disease', 'concept_code': '64572001', 'metrics': {'1': {'count': 10208, 'prevalence': 1.0}}, 'source_cohorts': [1], 'parent_ids': [441840], 'children': [{'concept_id': 432250, 'concept_name': 'Disorder due to infection', 'concept_code': '40733004', 'metrics': {'1': {'count': 10208, 'prevalence': 1.0}}, 'source_cohorts': [1], 'parent_ids': [4274025], 'children': [{'concept_id': 440029, 'concept_name': 'Viral disease', 'concept_code': '34014006', 'metrics': {'1': {'count': 10208, 'prevalence': 1.0}}, 'source_cohorts': [1], 'parent_ids': [432250], 'children': [{'concept_id': 4100065, 'concept_name': 'Disease due to Coronaviridae', 'concept_code': '27619001', 'metrics': {'1': {'count': 10208, 'prevalence': 1.0}}, 'source_cohorts': [1], 'parent_ids': [440029], 'children': [{'concept_id': 439676, 'concept_name': 'Coronavirus infection', 'concept_code': '186747009', 'metrics': {'1': {'count': 10208, 'prevalence': 1.0}}, 'source_cohorts': [1], 'parent_ids': [4100065], 'children': [{'concept_id': 37311061, 'concept_name': 'COVID-19', 'concept_code': '840539006', 'metrics': {'1': {'count': 10208, 'prevalence': 1.0}}, 'source_cohorts': [1], 'parent_ids': [439676], 'children': []}]}]}]}]}]}, {'concept_id': 4094294, 'concept_name': 'Clinical history and observation findings', 'concept_code': '250171008', 'metrics': {'1': {'count': 9150, 'prevalence': 0.8963557993730408}}, 'source_cohorts': [1], 'parent_ids': [441840], 'children': [{'concept_id': 4041283, 'concept_name': 'General finding of observation of patient', 'concept_code': '118222006', 'metrics': {'1': {'count': 9149, 'prevalence': 0.8962578369905956}}, 'source_cohorts': [1], 'parent_ids': [4094294], 'children': [{'concept_id': 4221108, 'concept_name': 'General body state finding', 'concept_code': '82832008', 'metrics': {'1': {'count': 9080, 'prevalence': 0.8894984326018809}}, 'source_cohorts': [1], 'parent_ids': [4041283], 'children': [{'concept_id': 4042138, 'concept_name': 'Vital signs finding', 'concept_code': '118227000', 'metrics': {'1': {'count': 8650, 'prevalence': 0.8473746081504702}}, 'source_cohorts': [1], 'parent_ids': [4221108], 'children': [{'concept_id': 4022230, 'concept_name': 'Body temperature finding', 'concept_code': '105723007', 'metrics': {'1': {'count': 8650, 'prevalence': 0.8473746081504702}}, 'source_cohorts': [1], 'parent_ids': [4042138, 4103474], 'children': [{'concept_id': 4047791, 'concept_name': 'Abnormal body temperature', 'concept_code': '123979008', 'metrics': {'1': {'count': 8650, 'prevalence': 0.8473746081504702}}, 'source_cohorts': [1], 'parent_ids': [4022230], 'children': [{'concept_id': 4178904, 'concept_name': 'Body temperature above reference range', 'concept_code': '50177009', 'metrics': {'1': {'count': 8650, 'prevalence': 0.8473746081504702}}, 'source_cohorts': [1], 'parent_ids': [4047791], 'children': [{'concept_id': 437663, 'concept_name': 'Fever', 'concept_code': '386661006', 'metrics': {'1': {'count': 8650, 'prevalence': 0.8473746081504702}}, 'source_cohorts': [1], 'parent_ids': [4178904], 'children': []}]}]}]}]}]}, {'concept_id': 4103474, 'concept_name': 'Temperature-associated finding', 'concept_code': '301343009', 'metrics': {'1': {'count': 8769, 'prevalence': 0.859032131661442}}, 'source_cohorts': [1], 'parent_ids': [4041283], 'children': [{'concept_id': 4022230, 'concept_name': 'Body temperature finding', 'concept_code': '105723007', 'metrics': {'1': {'count': 8650, 'prevalence': 0.8473746081504702}}, 'source_cohorts': [1], 'parent_ids': [4042138, 4103474], 'children': [{'concept_id': 4047791, 'concept_name': 'Abnormal body temperature', 'concept_code': '123979008', 'metrics': {'1': {'count': 8650, 'prevalence': 0.8473746081504702}}, 'source_cohorts': [1], 'parent_ids': [4022230], 'children': [{'concept_id': 4178904, 'concept_name': 'Body temperature above reference range', 'concept_code': '50177009', 'metrics': {'1': {'count': 8650, 'prevalence': 0.8473746081504702}}, 'source_cohorts': [1], 'parent_ids': [4047791], 'children': [{'concept_id': 437663, 'concept_name': 'Fever', 'concept_code': '386661006', 'metrics': {'1': {'count': 8650, 'prevalence': 0.8473746081504702}}, 'source_cohorts': [1], 'parent_ids': [4178904], 'children': []}]}]}]}]}]}]}, {'concept_id': 4042140, 'concept_name': 'Finding by site', 'concept_code': '118234003', 'metrics': {'1': {'count': 9120, 'prevalence': 0.8934169278996865}}, 'source_cohorts': [1], 'parent_ids': [441840], 'children': [{'concept_id': 4024567, 'concept_name': 'Respiratory finding', 'concept_code': '106048009', 'metrics': {'1': {'count': 7755, 'prevalence': 0.759698275862069}}, 'source_cohorts': [1], 'parent_ids': [4042140], 'children': [{'concept_id': 4267789, 'concept_name': 'Respiratory function finding', 'concept_code': '365852007', 'metrics': {'1': {'count': 6596, 'prevalence': 0.6461598746081505}}, 'source_cohorts': [1], 'parent_ids': [4024567], 'children': [{'concept_id': 254761, 'concept_name': 'Cough', 'concept_code': '49727002', 'metrics': {'1': {'count': 6596, 'prevalence': 0.6461598746081505}}, 'source_cohorts': [1], 'parent_ids': [4267789], 'children': []}]}]}, {'concept_id': 4199402, 'concept_name': 'Finding of body region', 'concept_code': '301857004', 'metrics': {'1': {'count': 7115, 'prevalence': 0.6970023510971787}}, 'source_cohorts': [1], 'parent_ids': [4042140], 'children': [{'concept_id': 255919, 'concept_name': 'Finding of head and neck region', 'concept_code': '118254002', 'metrics': {'1': {'count': 6423, 'prevalence': 0.6292123824451411}}, 'source_cohorts': [1], 'parent_ids': [4199402], 'children': [{'concept_id': 4247371, 'concept_name': 'Head finding', 'concept_code': '406122000', 'metrics': {'1': {'count': 6391, 'prevalence': 0.6260775862068966}}, 'source_cohorts': [1], 'parent_ids': [255919], 'children': [{'concept_id': 4182161, 'concept_name': 'Finding of head region', 'concept_code': '298364001', 'metrics': {'1': {'count': 5194, 'prevalence': 0.5088166144200627}}, 'source_cohorts': [1], 'parent_ids': [4247371], 'children': []}]}, {'concept_id': 4091363, 'concept_name': 'Mouth and/or pharynx finding', 'concept_code': '249376008', 'metrics': {'1': {'count': 5619, 'prevalence': 0.5504506269592476}}, 'source_cohorts': [1], 'parent_ids': [4302537, 255919], 'children': []}]}]}, {'concept_id': 44783587, 'concept_name': 'Finding of sensation by site', 'concept_code': '699697007', 'metrics': {'1': {'count': 6657, 'prevalence': 0.6521355799373041}}, 'source_cohorts': [1], 'parent_ids': [4024013, 4042140], 'children': []}, {'concept_id': 4302537, 'concept_name': 'Digestive system finding', 'concept_code': '386617003', 'metrics': {'1': {'count': 5953, 'prevalence': 0.5831700626959248}}, 'source_cohorts': [1], 'parent_ids': [4042140], 'children': [{'concept_id': 4091363, 'concept_name': 'Mouth and/or pharynx finding', 'concept_code': '249376008', 'metrics': {'1': {'count': 5619, 'prevalence': 0.5504506269592476}}, 'source_cohorts': [1], 'parent_ids': [4302537, 255919], 'children': []}]}]}, {'concept_id': 4011630, 'concept_name': 'Neurological finding', 'concept_code': '102957003', 'metrics': {'1': {'count': 6659, 'prevalence': 0.6523315047021944}}, 'source_cohorts': [1], 'parent_ids': [441840], 'children': [{'concept_id': 4024013, 'concept_name': 'Sensory nervous system finding', 'concept_code': '106147001', 'metrics': {'1': {'count': 6659, 'prevalence': 0.6523315047021944}}, 'source_cohorts': [1], 'parent_ids': [4011630], 'children': [{'concept_id': 44783587, 'concept_name': 'Finding of sensation by site', 'concept_code': '699697007', 'metrics': {'1': {'count': 6657, 'prevalence': 0.6521355799373041}}, 'source_cohorts': [1], 'parent_ids': [4024013, 4042140], 'children': []}]}]}]}]}\n",
      "the time taken to get cohort concept stats for condition_occurrence is 139.10021233558655s\n"
     ]
    }
   ],
   "source": [
    "import pandas as pd\n",
    "pd.set_option('display.max_rows', None)\n",
    "pd.set_option('display.max_columns', None)\n",
    "pd.set_option('display.width', 1000)\n",
    "\n",
    "import time\n",
    "\n",
    "# get cohort concept prevalance\n",
    "t1 = time.time()\n",
    "cohort_concepts, cohort_concept_hierarchy = cohort_data.get_concept_stats(filter_count=5000)\n",
    "print(pd.DataFrame(cohort_concepts[\"condition_occurrence\"]))\n",
    "print(f\"returned cohort_concept_hierarchy object converted to dict: {cohort_concept_hierarchy.to_dict()}\")\n",
    "print(f'the time taken to get cohort concept stats for condition_occurrence is {time.time() - t1}s')"
   ]
  },
  {
   "cell_type": "markdown",
   "id": "77af0451-f2e6-47ad-814e-3cb052e07aa5",
   "metadata": {},
   "source": [
    "———————————————\n",
    "\n",
    "**Navigating cohort concept hierarchy**\n",
    "The following methods in the `ConceptHierarchy` class enables concept hierarchical navigation:\n",
    "- `get_root_nodes(serialization=False)`: If the input parameter `serialization` is False, it returns a list of root nodes of the `ConceptHierarchy` object where each root node is a `ConceptNode` object. If the input parameter `serialization` is True, it returns a list of dictionaries with each dict item representing a serialized root `ConceptNode` object ready to be converted into a JSON object for downstream apps.\n",
    "- `get_node(concept_id, serialization=False)`: returns the `ConceptNode` object (when `serialization` is set to False) or a dict item representing a serialized `ConceptNode` object (when `serialization` is set to True) corresponding to the input `concept_id`.\n",
    "- `get_leaf_nodes(serialization=False)`: If the input parameter `serialization` is False, it returns a list of leaf nodes of the `ConceptHierarchy` object where each leaf node is a `ConceptNode` object. If the input parameter `serialization` is True, it returns a list of dictionaries with each dict item representing a serialized leaf `ConceptNode` object ready to be converted into a JSON object for downstream apps.\n",
    "- `iter_nodes(root_id, order='bfs', serialization=False)`: allows downstream apps to iterate the concept hierarchy in breadth-first search (`bfs`) or depth-first search (`dfs`) order and yield an ordered list of ConceptNode objects (`serialization` is set to False) or an ordered list of dict items with each item representing a serialized ConceptNode object (`serialization` is set to True). \n",
    "- `union(other)`: merges current `ConceptHierarchy` object with another `ConceptHierarchy` object (specified by `other` input parameter) to get an aggregated metrics between two hierarchies. It returns a new unioned `ConceptHierarchy` object with aggregated metrics computed.\n",
    "- `to_dict(root_id=None)`: converts the entire `ConceptHierarchy` object (if `root_id` input parameter is None) or a sub-hierarchy rooted at the `root_id` input concept id parameter in the concept hierarchy to a serialized and nested dict structure ready to be loaded into a JSON object by downstream apps. The returned dict is a key-value pair with `hierarchy` as the key and a list of serialized ConceptNode objects as the value.\n",
    "\n",
    "The code block below demonstrate how to navigate the cohort condition occurrence concept hierarchy."
   ]
  },
  {
   "cell_type": "markdown",
   "id": "926bc4ad-1618-4078-8c5e-75d6473218d5",
   "metadata": {},
   "source": [
    "———————————————\n",
    "\n",
    "**Cohort drug exposure concept prevalence**: \n",
    "The code block below demonstrates how to use `get_concept_stats(concept_type='drug_exposure', filter_count=500)` method to retrieve concept prevalence for the `drug_exposure` domain with hierarchical relationships included in the results. By default, this uses the `RxNorm` vocabulary. Concepts with fewer than 500 patients are excluded as specified in the `filter_count` input parameter. The method returns a dictionary and a ConceptHierarchy object. Refer to the detailed description for the returned dictionary and ConceptHierarchy object with the 'condition_occurrence` concept domain example above.  These returned results allow you to explore which clinical concepts are most prevalent in your cohort and suppoert deeper investigations into potential sources of selection bias.\n",
    "\n",
    "**Note**: Prevalence computation may take some time, especially for large cohorts or when hierarchical relationships are included. A progress bar will appear to indicate the progress of the computation. \n"
   ]
  },
  {
   "cell_type": "code",
   "execution_count": 4,
   "id": "d539b8df-2bf4-42ec-abc5-36fa0238cea1",
   "metadata": {},
   "outputs": [
    {
     "data": {
      "application/vnd.jupyter.widget-view+json": {
       "model_id": "875e81b847fc4d97aeca20f9faee3339",
       "version_major": 2,
       "version_minor": 0
      },
      "text/plain": [
       "FloatProgress(value=0.0, layout=Layout(width='auto'), style=ProgressStyle(bar_color='black'))"
      ]
     },
     "metadata": {},
     "output_type": "display_data"
    },
    {
     "name": "stdout",
     "output_type": "stream",
     "text": [
      "                                         concept_name concept_code  count_in_cohort  prevalence  ancestor_concept_id  descendant_concept_id\n",
      "0                                        Oral Product      1151131              937    0.091791             36217214               36217214\n",
      "1                                                Pill      1151133              931    0.091203             36217216               36217216\n",
      "2                                       acetaminophen          161              676    0.066223              1125315                1125315\n",
      "3                                  acetaminophen Pill      1152843              638    0.062500             36216999               36216999\n",
      "4                                  acetaminophen Pill      1152843              638    0.062500             36217216               36216999\n",
      "5                          acetaminophen Oral Product      1152842              638    0.062500              1125315               36216998\n",
      "6                          acetaminophen Oral Product      1152842              638    0.062500             36216998               36216998\n",
      "7                                  acetaminophen Pill      1152843              638    0.062500              1125315               36216999\n",
      "8                          acetaminophen Oral Product      1152842              638    0.062500             36217214               36216998\n",
      "9                           acetaminophen Oral Tablet       369097              609    0.059659             40005746               40005746\n",
      "10                          acetaminophen Oral Tablet       369097              609    0.059659             36216998               40005746\n",
      "11                          acetaminophen Oral Tablet       369097              609    0.059659             36216999               40005746\n",
      "12                          acetaminophen Oral Tablet       369097              609    0.059659              1125315               40005746\n",
      "13                                 Injectable Product      1151126              606    0.059365             36217210               36217210\n",
      "14                        enoxaparin sodium 100 MG/ML       854227              582    0.057014             40160947               40160947\n",
      "15                   acetaminophen 500 MG Oral Tablet       198440              582    0.057014              1127527               19020053\n",
      "16      enoxaparin sodium 100 MG/ML Prefilled Syringe      1360019              582    0.057014             40141787               42902906\n",
      "17                   acetaminophen 500 MG Oral Tablet       198440              582    0.057014             19020053               19020053\n",
      "18                               acetaminophen 500 MG       315266              582    0.057014              1127527                1127527\n",
      "19                   acetaminophen 500 MG Oral Tablet       198440              582    0.057014             36216998               19020053\n",
      "20                       enoxaparin Prefilled Syringe       727722              582    0.057014              1301025               40141787\n",
      "21                   acetaminophen 500 MG Oral Tablet       198440              582    0.057014             40005746               19020053\n",
      "22  0.4 ML enoxaparin sodium 100 MG/ML Prefilled S...       854235              582    0.057014             40160947               40160973\n",
      "23      enoxaparin sodium 100 MG/ML Prefilled Syringe      1360019              582    0.057014             36224590               42902906\n",
      "24                       enoxaparin Prefilled Syringe       727722              582    0.057014             36224590               40141787\n",
      "25  0.4 ML enoxaparin sodium 100 MG/ML Prefilled S...       854235              582    0.057014             40160973               40160973\n",
      "26  0.4 ML enoxaparin sodium 100 MG/ML Prefilled S...       854235              582    0.057014             36224590               40160973\n",
      "27                               acetaminophen 500 MG       315266              582    0.057014              1125315                1127527\n",
      "28                       enoxaparin Prefilled Syringe       727722              582    0.057014             40141787               40141787\n",
      "29  0.4 ML enoxaparin sodium 100 MG/ML Prefilled S...       854235              582    0.057014             42902906               40160973\n",
      "30  0.4 ML enoxaparin sodium 100 MG/ML Prefilled S...       854235              582    0.057014             40141787               40160973\n",
      "31                      enoxaparin Injectable Product      1162664              582    0.057014              1301025               36224590\n",
      "32      enoxaparin sodium 100 MG/ML Prefilled Syringe      1360019              582    0.057014             42902906               42902906\n",
      "33                      enoxaparin Injectable Product      1162664              582    0.057014             36224590               36224590\n",
      "34      enoxaparin sodium 100 MG/ML Prefilled Syringe      1360019              582    0.057014             40160947               42902906\n",
      "35                   acetaminophen 500 MG Oral Tablet       198440              582    0.057014             36216999               19020053\n",
      "36                        enoxaparin sodium 100 MG/ML       854227              582    0.057014              1301025               40160947\n",
      "37                                         enoxaparin        67108              582    0.057014              1301025                1301025\n",
      "38                      enoxaparin Injectable Product      1162664              582    0.057014             36217210               36224590\n",
      "returned cohort_de_concept_hierarchy object converted to dict: {'hierarchy': [{'concept_id': 441840, 'concept_name': 'Clinical finding', 'concept_code': '404684003', 'metrics': {'1': {'count': 10208, 'prevalence': 1.0}}, 'source_cohorts': [1], 'parent_ids': [], 'children': [{'concept_id': 4274025, 'concept_name': 'Disease', 'concept_code': '64572001', 'metrics': {'1': {'count': 10208, 'prevalence': 1.0}}, 'source_cohorts': [1], 'parent_ids': [441840], 'children': [{'concept_id': 432250, 'concept_name': 'Disorder due to infection', 'concept_code': '40733004', 'metrics': {'1': {'count': 10208, 'prevalence': 1.0}}, 'source_cohorts': [1], 'parent_ids': [4274025], 'children': [{'concept_id': 440029, 'concept_name': 'Viral disease', 'concept_code': '34014006', 'metrics': {'1': {'count': 10208, 'prevalence': 1.0}}, 'source_cohorts': [1], 'parent_ids': [432250], 'children': [{'concept_id': 4100065, 'concept_name': 'Disease due to Coronaviridae', 'concept_code': '27619001', 'metrics': {'1': {'count': 10208, 'prevalence': 1.0}}, 'source_cohorts': [1], 'parent_ids': [440029], 'children': [{'concept_id': 439676, 'concept_name': 'Coronavirus infection', 'concept_code': '186747009', 'metrics': {'1': {'count': 10208, 'prevalence': 1.0}}, 'source_cohorts': [1], 'parent_ids': [4100065], 'children': [{'concept_id': 37311061, 'concept_name': 'COVID-19', 'concept_code': '840539006', 'metrics': {'1': {'count': 10208, 'prevalence': 1.0}}, 'source_cohorts': [1], 'parent_ids': [439676], 'children': []}]}]}]}]}]}, {'concept_id': 4094294, 'concept_name': 'Clinical history and observation findings', 'concept_code': '250171008', 'metrics': {'1': {'count': 9150, 'prevalence': 0.8963557993730408}}, 'source_cohorts': [1], 'parent_ids': [441840], 'children': [{'concept_id': 4041283, 'concept_name': 'General finding of observation of patient', 'concept_code': '118222006', 'metrics': {'1': {'count': 9149, 'prevalence': 0.8962578369905956}}, 'source_cohorts': [1], 'parent_ids': [4094294], 'children': [{'concept_id': 4221108, 'concept_name': 'General body state finding', 'concept_code': '82832008', 'metrics': {'1': {'count': 9080, 'prevalence': 0.8894984326018809}}, 'source_cohorts': [1], 'parent_ids': [4041283], 'children': [{'concept_id': 4042138, 'concept_name': 'Vital signs finding', 'concept_code': '118227000', 'metrics': {'1': {'count': 8650, 'prevalence': 0.8473746081504702}}, 'source_cohorts': [1], 'parent_ids': [4221108], 'children': [{'concept_id': 4022230, 'concept_name': 'Body temperature finding', 'concept_code': '105723007', 'metrics': {'1': {'count': 8650, 'prevalence': 0.8473746081504702}}, 'source_cohorts': [1], 'parent_ids': [4042138, 4103474], 'children': [{'concept_id': 4047791, 'concept_name': 'Abnormal body temperature', 'concept_code': '123979008', 'metrics': {'1': {'count': 8650, 'prevalence': 0.8473746081504702}}, 'source_cohorts': [1], 'parent_ids': [4022230], 'children': [{'concept_id': 4178904, 'concept_name': 'Body temperature above reference range', 'concept_code': '50177009', 'metrics': {'1': {'count': 8650, 'prevalence': 0.8473746081504702}}, 'source_cohorts': [1], 'parent_ids': [4047791], 'children': [{'concept_id': 437663, 'concept_name': 'Fever', 'concept_code': '386661006', 'metrics': {'1': {'count': 8650, 'prevalence': 0.8473746081504702}}, 'source_cohorts': [1], 'parent_ids': [4178904], 'children': []}]}]}]}]}]}, {'concept_id': 4103474, 'concept_name': 'Temperature-associated finding', 'concept_code': '301343009', 'metrics': {'1': {'count': 8769, 'prevalence': 0.859032131661442}}, 'source_cohorts': [1], 'parent_ids': [4041283], 'children': [{'concept_id': 4022230, 'concept_name': 'Body temperature finding', 'concept_code': '105723007', 'metrics': {'1': {'count': 8650, 'prevalence': 0.8473746081504702}}, 'source_cohorts': [1], 'parent_ids': [4042138, 4103474], 'children': [{'concept_id': 4047791, 'concept_name': 'Abnormal body temperature', 'concept_code': '123979008', 'metrics': {'1': {'count': 8650, 'prevalence': 0.8473746081504702}}, 'source_cohorts': [1], 'parent_ids': [4022230], 'children': [{'concept_id': 4178904, 'concept_name': 'Body temperature above reference range', 'concept_code': '50177009', 'metrics': {'1': {'count': 8650, 'prevalence': 0.8473746081504702}}, 'source_cohorts': [1], 'parent_ids': [4047791], 'children': [{'concept_id': 437663, 'concept_name': 'Fever', 'concept_code': '386661006', 'metrics': {'1': {'count': 8650, 'prevalence': 0.8473746081504702}}, 'source_cohorts': [1], 'parent_ids': [4178904], 'children': []}]}]}]}]}]}]}, {'concept_id': 4042140, 'concept_name': 'Finding by site', 'concept_code': '118234003', 'metrics': {'1': {'count': 9120, 'prevalence': 0.8934169278996865}}, 'source_cohorts': [1], 'parent_ids': [441840], 'children': [{'concept_id': 4024567, 'concept_name': 'Respiratory finding', 'concept_code': '106048009', 'metrics': {'1': {'count': 7755, 'prevalence': 0.759698275862069}}, 'source_cohorts': [1], 'parent_ids': [4042140], 'children': [{'concept_id': 4267789, 'concept_name': 'Respiratory function finding', 'concept_code': '365852007', 'metrics': {'1': {'count': 6596, 'prevalence': 0.6461598746081505}}, 'source_cohorts': [1], 'parent_ids': [4024567], 'children': [{'concept_id': 254761, 'concept_name': 'Cough', 'concept_code': '49727002', 'metrics': {'1': {'count': 6596, 'prevalence': 0.6461598746081505}}, 'source_cohorts': [1], 'parent_ids': [4267789], 'children': []}]}]}, {'concept_id': 4199402, 'concept_name': 'Finding of body region', 'concept_code': '301857004', 'metrics': {'1': {'count': 7115, 'prevalence': 0.6970023510971787}}, 'source_cohorts': [1], 'parent_ids': [4042140], 'children': [{'concept_id': 255919, 'concept_name': 'Finding of head and neck region', 'concept_code': '118254002', 'metrics': {'1': {'count': 6423, 'prevalence': 0.6292123824451411}}, 'source_cohorts': [1], 'parent_ids': [4199402], 'children': [{'concept_id': 4247371, 'concept_name': 'Head finding', 'concept_code': '406122000', 'metrics': {'1': {'count': 6391, 'prevalence': 0.6260775862068966}}, 'source_cohorts': [1], 'parent_ids': [255919], 'children': [{'concept_id': 4182161, 'concept_name': 'Finding of head region', 'concept_code': '298364001', 'metrics': {'1': {'count': 5194, 'prevalence': 0.5088166144200627}}, 'source_cohorts': [1], 'parent_ids': [4247371], 'children': []}]}, {'concept_id': 4091363, 'concept_name': 'Mouth and/or pharynx finding', 'concept_code': '249376008', 'metrics': {'1': {'count': 5619, 'prevalence': 0.5504506269592476}}, 'source_cohorts': [1], 'parent_ids': [4302537, 255919], 'children': []}]}]}, {'concept_id': 44783587, 'concept_name': 'Finding of sensation by site', 'concept_code': '699697007', 'metrics': {'1': {'count': 6657, 'prevalence': 0.6521355799373041}}, 'source_cohorts': [1], 'parent_ids': [4024013, 4042140], 'children': []}, {'concept_id': 4302537, 'concept_name': 'Digestive system finding', 'concept_code': '386617003', 'metrics': {'1': {'count': 5953, 'prevalence': 0.5831700626959248}}, 'source_cohorts': [1], 'parent_ids': [4042140], 'children': [{'concept_id': 4091363, 'concept_name': 'Mouth and/or pharynx finding', 'concept_code': '249376008', 'metrics': {'1': {'count': 5619, 'prevalence': 0.5504506269592476}}, 'source_cohorts': [1], 'parent_ids': [4302537, 255919], 'children': []}]}]}, {'concept_id': 4011630, 'concept_name': 'Neurological finding', 'concept_code': '102957003', 'metrics': {'1': {'count': 6659, 'prevalence': 0.6523315047021944}}, 'source_cohorts': [1], 'parent_ids': [441840], 'children': [{'concept_id': 4024013, 'concept_name': 'Sensory nervous system finding', 'concept_code': '106147001', 'metrics': {'1': {'count': 6659, 'prevalence': 0.6523315047021944}}, 'source_cohorts': [1], 'parent_ids': [4011630], 'children': [{'concept_id': 44783587, 'concept_name': 'Finding of sensation by site', 'concept_code': '699697007', 'metrics': {'1': {'count': 6657, 'prevalence': 0.6521355799373041}}, 'source_cohorts': [1], 'parent_ids': [4024013, 4042140], 'children': []}]}]}]}]}\n",
      "the time taken to get cohort concept stats for drug_exposure is 28.68553924560547s\n"
     ]
    }
   ],
   "source": [
    "t1 = time.time()\n",
    "cohort_de_concepts, cohort_de_concept_hierarchy = cohort_data.get_concept_stats(concept_type='drug_exposure', filter_count=500)\n",
    "print(pd.DataFrame(cohort_de_concepts[\"drug_exposure\"]))\n",
    "print(f\"returned cohort_de_concept_hierarchy object converted to dict: {cohort_de_concept_hierarchy.to_dict()}\")\n",
    "print(f'the time taken to get cohort concept stats for drug_exposure is {time.time() - t1}s')"
   ]
  },
  {
   "cell_type": "markdown",
   "id": "b6c6a8a1-d07d-4a1a-93f7-59efeb1084dc",
   "metadata": {},
   "source": [
    "———————————————\n",
    "\n",
    "**Navigating cohort concept hierarchy**\n",
    "The following methods in the `ConceptHierarchy` class enables concept hierarchical navigation:\n",
    "- `get_root_nodes(serialization=False)`: If the input parameter `serialization` is False, it returns a list of root nodes of the `ConceptHierarchy` object where each root node is a `ConceptNode` object. If the input parameter `serialization` is True, it returns a list of dictionaries with each dict item representing a serialized root `ConceptNode` object ready to be converted into a JSON object for downstream apps.\n",
    "- `get_node(concept_id, serialization=False)`: returns the `ConceptNode` object (when `serialization` is set to False) or a dict item representing a serialized `ConceptNode` object (when `serialization` is set to True) corresponding to the input `concept_id`.\n",
    "- `get_leaf_nodes(serialization=False)`: If the input parameter `serialization` is False, it returns a list of leaf nodes of the `ConceptHierarchy` object where each leaf node is a `ConceptNode` object. If the input parameter `serialization` is True, it returns a list of dictionaries with each dict item representing a serialized leaf `ConceptNode` object ready to be converted into a JSON object for downstream apps.\n",
    "- `iter_nodes(root_id, order='bfs', serialization=False)`: allows downstream apps to iterate the concept hierarchy in breadth-first search (`bfs`) or depth-first search (`dfs`) order and yield an ordered list of ConceptNode objects (`serialization` is set to False) or an ordered list of dict items with each item representing a serialized ConceptNode object (`serialization` is set to True). \n",
    "- `union(other)`: merges current `ConceptHierarchy` object with another `ConceptHierarchy` object (specified by `other` input parameter) to get a unionized concept hierarchy between two hierarchies. It returns a new unioned `ConceptHierarchy` object with a unionized view of each concept across two hierarchies.\n",
    "- `to_dict(root_id=None)`: converts the entire `ConceptHierarchy` object (if `root_id` input parameter is None) or a sub-hierarchy rooted at the `root_id` input concept id parameter in the concept hierarchy to a serialized and nested dict structure ready to be loaded into a JSON object by downstream apps. The returned dict is a key-value pair with `hierarchy` as the key and a list of serialized ConceptNode objects as the value.\n",
    "\n",
    "Since `ConceptHierarchy` methods return a `ConceptNode` object or a list of `ConceptNode` objects if `serialization` is set to False, downstream apps can access `ConceptNode` properties such as `name`, `code`, `parents`, and `children` to get the concept's name, code, parents, and children, and call `ConceptNode` methods, such as `get_metrics(cohort_id)` to get the concept's count and prevalence metrics computed by the linked `ConceptHierarchy` object for the cohort identified by the input `cohort_id` parameter, and `get_union_metrics()` to get the concept's unioned or aggregated count and prevalence metrics computed by the linked `ConceptHierarchy` object across multiple cohorts. There is also a `ConceptNode` `to_dict(include_children=True)` method that returns the serialized dict item representing the `ConceptNode` object either with nested children included (`include_children` input parameter is set to True) or not (`include_children` is set to False).   \n",
    "\n",
    "The code block below demonstrate how to navigate the cohort condition occurrence concept hierarchy using `ConceptHierarchy` and `ConceptNode` objects."
   ]
  },
  {
   "cell_type": "code",
   "execution_count": 5,
   "id": "0e581285-6df1-4ab2-a402-99a6b42a2da5",
   "metadata": {},
   "outputs": [
    {
     "name": "stdout",
     "output_type": "stream",
     "text": [
      "root node 0 info - name: Clinical finding, code: 404684003\n",
      "root metric info - {'count': 10208, 'prevalence': 1.0}\n",
      "leaf node 0 info - name: COVID-19, code: 840539006\n",
      "leaf metric info - {'count': 10208, 'prevalence': 1.0}\n",
      "leaf node 1 info - name: Fever, code: 386661006\n",
      "leaf metric info - {'count': 8650, 'prevalence': 0.8473746081504702}\n",
      "leaf node 2 info - name: Finding of sensation by site, code: 699697007\n",
      "leaf metric info - {'count': 6657, 'prevalence': 0.6521355799373041}\n",
      "leaf node 3 info - name: Cough, code: 49727002\n",
      "leaf metric info - {'count': 6596, 'prevalence': 0.6461598746081505}\n",
      "leaf node 4 info - name: Mouth and/or pharynx finding, code: 249376008\n",
      "leaf metric info - {'count': 5619, 'prevalence': 0.5504506269592476}\n",
      "leaf node 5 info - name: Finding of head region, code: 298364001\n",
      "leaf metric info - {'count': 5194, 'prevalence': 0.5088166144200627}\n",
      "infection_node info - name: Disorder due to infection, code: 40733004\n",
      "infection_node metric info - {'count': 10208, 'prevalence': 1.0}\n",
      "infection_node union metric info - {'count': 10208, 'prevalence': 1.0}\n",
      "serialized infection_node dict info - {'concept_id': 432250, 'concept_name': 'Disorder due to infection', 'concept_code': '40733004', 'metrics': {'1': {'count': 10208, 'prevalence': 1.0}}, 'source_cohorts': [1], 'parent_ids': [4274025], 'children': [{'concept_id': 440029, 'concept_name': 'Viral disease', 'concept_code': '34014006', 'metrics': {'1': {'count': 10208, 'prevalence': 1.0}}, 'source_cohorts': [1], 'parent_ids': [432250], 'children': [{'concept_id': 4100065, 'concept_name': 'Disease due to Coronaviridae', 'concept_code': '27619001', 'metrics': {'1': {'count': 10208, 'prevalence': 1.0}}, 'source_cohorts': [1], 'parent_ids': [440029], 'children': [{'concept_id': 439676, 'concept_name': 'Coronavirus infection', 'concept_code': '186747009', 'metrics': {'1': {'count': 10208, 'prevalence': 1.0}}, 'source_cohorts': [1], 'parent_ids': [4100065], 'children': [{'concept_id': 37311061, 'concept_name': 'COVID-19', 'concept_code': '840539006', 'metrics': {'1': {'count': 10208, 'prevalence': 1.0}}, 'source_cohorts': [1], 'parent_ids': [439676], 'children': []}]}]}]}]}\n",
      "print all concept nodes being iterated in the concept hierarchy starting from the root node in breadth-first order:\n",
      "(441840, Clinical finding)\n",
      "(4274025, Disease)\n",
      "(4094294, Clinical history and observation findings)\n",
      "(4042140, Finding by site)\n",
      "(4011630, Neurological finding)\n",
      "(432250, Disorder due to infection)\n",
      "(4041283, General finding of observation of patient)\n",
      "(4024567, Respiratory finding)\n",
      "(4199402, Finding of body region)\n",
      "(44783587, Finding of sensation by site)\n",
      "(4302537, Digestive system finding)\n",
      "(4024013, Sensory nervous system finding)\n",
      "(440029, Viral disease)\n",
      "(4221108, General body state finding)\n",
      "(4103474, Temperature-associated finding)\n",
      "(4267789, Respiratory function finding)\n",
      "(255919, Finding of head and neck region)\n",
      "(4091363, Mouth and/or pharynx finding)\n",
      "(44783587, Finding of sensation by site)\n",
      "(4100065, Disease due to Coronaviridae)\n",
      "(4042138, Vital signs finding)\n",
      "(4022230, Body temperature finding)\n",
      "(254761, Cough)\n",
      "(4247371, Head finding)\n",
      "(4091363, Mouth and/or pharynx finding)\n",
      "(439676, Coronavirus infection)\n",
      "(4022230, Body temperature finding)\n",
      "(4047791, Abnormal body temperature)\n",
      "(4182161, Finding of head region)\n",
      "(37311061, COVID-19)\n",
      "(4047791, Abnormal body temperature)\n",
      "(4178904, Body temperature above reference range)\n",
      "(4178904, Body temperature above reference range)\n",
      "(437663, Fever)\n",
      "(437663, Fever)\n",
      "print all concept nodes being iterated in the concept hierarchy starting from the root node in depth-first order:\n",
      "(441840, Clinical finding)\n",
      "(4011630, Neurological finding)\n",
      "(4024013, Sensory nervous system finding)\n",
      "(44783587, Finding of sensation by site)\n",
      "(4042140, Finding by site)\n",
      "(4302537, Digestive system finding)\n",
      "(4091363, Mouth and/or pharynx finding)\n",
      "(44783587, Finding of sensation by site)\n",
      "(4199402, Finding of body region)\n",
      "(255919, Finding of head and neck region)\n",
      "(4091363, Mouth and/or pharynx finding)\n",
      "(4247371, Head finding)\n",
      "(4182161, Finding of head region)\n",
      "(4024567, Respiratory finding)\n",
      "(4267789, Respiratory function finding)\n",
      "(254761, Cough)\n",
      "(4094294, Clinical history and observation findings)\n",
      "(4041283, General finding of observation of patient)\n",
      "(4103474, Temperature-associated finding)\n",
      "(4022230, Body temperature finding)\n",
      "(4047791, Abnormal body temperature)\n",
      "(4178904, Body temperature above reference range)\n",
      "(437663, Fever)\n",
      "(4221108, General body state finding)\n",
      "(4042138, Vital signs finding)\n",
      "(4022230, Body temperature finding)\n",
      "(4047791, Abnormal body temperature)\n",
      "(4178904, Body temperature above reference range)\n",
      "(437663, Fever)\n",
      "(4274025, Disease)\n",
      "(432250, Disorder due to infection)\n",
      "(440029, Viral disease)\n",
      "(4100065, Disease due to Coronaviridae)\n",
      "(439676, Coronavirus infection)\n",
      "(37311061, COVID-19)\n",
      "print serialized dict of all concept nodes being iterated in the concept hierarchy starting from the root node in depth-first order:\n",
      "[{'concept_id': 441840, 'concept_name': 'Clinical finding', 'concept_code': '404684003', 'metrics': {'1': {'count': 10208, 'prevalence': 1.0}}, 'source_cohorts': [1], 'parent_ids': []}, {'concept_id': 4011630, 'concept_name': 'Neurological finding', 'concept_code': '102957003', 'metrics': {'1': {'count': 6659, 'prevalence': 0.6523315047021944}}, 'source_cohorts': [1], 'parent_ids': [441840]}, {'concept_id': 4024013, 'concept_name': 'Sensory nervous system finding', 'concept_code': '106147001', 'metrics': {'1': {'count': 6659, 'prevalence': 0.6523315047021944}}, 'source_cohorts': [1], 'parent_ids': [4011630]}, {'concept_id': 44783587, 'concept_name': 'Finding of sensation by site', 'concept_code': '699697007', 'metrics': {'1': {'count': 6657, 'prevalence': 0.6521355799373041}}, 'source_cohorts': [1], 'parent_ids': [4024013, 4042140]}, {'concept_id': 4042140, 'concept_name': 'Finding by site', 'concept_code': '118234003', 'metrics': {'1': {'count': 9120, 'prevalence': 0.8934169278996865}}, 'source_cohorts': [1], 'parent_ids': [441840]}, {'concept_id': 4302537, 'concept_name': 'Digestive system finding', 'concept_code': '386617003', 'metrics': {'1': {'count': 5953, 'prevalence': 0.5831700626959248}}, 'source_cohorts': [1], 'parent_ids': [4042140]}, {'concept_id': 4091363, 'concept_name': 'Mouth and/or pharynx finding', 'concept_code': '249376008', 'metrics': {'1': {'count': 5619, 'prevalence': 0.5504506269592476}}, 'source_cohorts': [1], 'parent_ids': [4302537, 255919]}, {'concept_id': 44783587, 'concept_name': 'Finding of sensation by site', 'concept_code': '699697007', 'metrics': {'1': {'count': 6657, 'prevalence': 0.6521355799373041}}, 'source_cohorts': [1], 'parent_ids': [4024013, 4042140]}, {'concept_id': 4199402, 'concept_name': 'Finding of body region', 'concept_code': '301857004', 'metrics': {'1': {'count': 7115, 'prevalence': 0.6970023510971787}}, 'source_cohorts': [1], 'parent_ids': [4042140]}, {'concept_id': 255919, 'concept_name': 'Finding of head and neck region', 'concept_code': '118254002', 'metrics': {'1': {'count': 6423, 'prevalence': 0.6292123824451411}}, 'source_cohorts': [1], 'parent_ids': [4199402]}, {'concept_id': 4091363, 'concept_name': 'Mouth and/or pharynx finding', 'concept_code': '249376008', 'metrics': {'1': {'count': 5619, 'prevalence': 0.5504506269592476}}, 'source_cohorts': [1], 'parent_ids': [4302537, 255919]}, {'concept_id': 4247371, 'concept_name': 'Head finding', 'concept_code': '406122000', 'metrics': {'1': {'count': 6391, 'prevalence': 0.6260775862068966}}, 'source_cohorts': [1], 'parent_ids': [255919]}, {'concept_id': 4182161, 'concept_name': 'Finding of head region', 'concept_code': '298364001', 'metrics': {'1': {'count': 5194, 'prevalence': 0.5088166144200627}}, 'source_cohorts': [1], 'parent_ids': [4247371]}, {'concept_id': 4024567, 'concept_name': 'Respiratory finding', 'concept_code': '106048009', 'metrics': {'1': {'count': 7755, 'prevalence': 0.759698275862069}}, 'source_cohorts': [1], 'parent_ids': [4042140]}, {'concept_id': 4267789, 'concept_name': 'Respiratory function finding', 'concept_code': '365852007', 'metrics': {'1': {'count': 6596, 'prevalence': 0.6461598746081505}}, 'source_cohorts': [1], 'parent_ids': [4024567]}, {'concept_id': 254761, 'concept_name': 'Cough', 'concept_code': '49727002', 'metrics': {'1': {'count': 6596, 'prevalence': 0.6461598746081505}}, 'source_cohorts': [1], 'parent_ids': [4267789]}, {'concept_id': 4094294, 'concept_name': 'Clinical history and observation findings', 'concept_code': '250171008', 'metrics': {'1': {'count': 9150, 'prevalence': 0.8963557993730408}}, 'source_cohorts': [1], 'parent_ids': [441840]}, {'concept_id': 4041283, 'concept_name': 'General finding of observation of patient', 'concept_code': '118222006', 'metrics': {'1': {'count': 9149, 'prevalence': 0.8962578369905956}}, 'source_cohorts': [1], 'parent_ids': [4094294]}, {'concept_id': 4103474, 'concept_name': 'Temperature-associated finding', 'concept_code': '301343009', 'metrics': {'1': {'count': 8769, 'prevalence': 0.859032131661442}}, 'source_cohorts': [1], 'parent_ids': [4041283]}, {'concept_id': 4022230, 'concept_name': 'Body temperature finding', 'concept_code': '105723007', 'metrics': {'1': {'count': 8650, 'prevalence': 0.8473746081504702}}, 'source_cohorts': [1], 'parent_ids': [4042138, 4103474]}, {'concept_id': 4047791, 'concept_name': 'Abnormal body temperature', 'concept_code': '123979008', 'metrics': {'1': {'count': 8650, 'prevalence': 0.8473746081504702}}, 'source_cohorts': [1], 'parent_ids': [4022230]}, {'concept_id': 4178904, 'concept_name': 'Body temperature above reference range', 'concept_code': '50177009', 'metrics': {'1': {'count': 8650, 'prevalence': 0.8473746081504702}}, 'source_cohorts': [1], 'parent_ids': [4047791]}, {'concept_id': 437663, 'concept_name': 'Fever', 'concept_code': '386661006', 'metrics': {'1': {'count': 8650, 'prevalence': 0.8473746081504702}}, 'source_cohorts': [1], 'parent_ids': [4178904]}, {'concept_id': 4221108, 'concept_name': 'General body state finding', 'concept_code': '82832008', 'metrics': {'1': {'count': 9080, 'prevalence': 0.8894984326018809}}, 'source_cohorts': [1], 'parent_ids': [4041283]}, {'concept_id': 4042138, 'concept_name': 'Vital signs finding', 'concept_code': '118227000', 'metrics': {'1': {'count': 8650, 'prevalence': 0.8473746081504702}}, 'source_cohorts': [1], 'parent_ids': [4221108]}, {'concept_id': 4022230, 'concept_name': 'Body temperature finding', 'concept_code': '105723007', 'metrics': {'1': {'count': 8650, 'prevalence': 0.8473746081504702}}, 'source_cohorts': [1], 'parent_ids': [4042138, 4103474]}, {'concept_id': 4047791, 'concept_name': 'Abnormal body temperature', 'concept_code': '123979008', 'metrics': {'1': {'count': 8650, 'prevalence': 0.8473746081504702}}, 'source_cohorts': [1], 'parent_ids': [4022230]}, {'concept_id': 4178904, 'concept_name': 'Body temperature above reference range', 'concept_code': '50177009', 'metrics': {'1': {'count': 8650, 'prevalence': 0.8473746081504702}}, 'source_cohorts': [1], 'parent_ids': [4047791]}, {'concept_id': 437663, 'concept_name': 'Fever', 'concept_code': '386661006', 'metrics': {'1': {'count': 8650, 'prevalence': 0.8473746081504702}}, 'source_cohorts': [1], 'parent_ids': [4178904]}, {'concept_id': 4274025, 'concept_name': 'Disease', 'concept_code': '64572001', 'metrics': {'1': {'count': 10208, 'prevalence': 1.0}}, 'source_cohorts': [1], 'parent_ids': [441840]}, {'concept_id': 432250, 'concept_name': 'Disorder due to infection', 'concept_code': '40733004', 'metrics': {'1': {'count': 10208, 'prevalence': 1.0}}, 'source_cohorts': [1], 'parent_ids': [4274025]}, {'concept_id': 440029, 'concept_name': 'Viral disease', 'concept_code': '34014006', 'metrics': {'1': {'count': 10208, 'prevalence': 1.0}}, 'source_cohorts': [1], 'parent_ids': [432250]}, {'concept_id': 4100065, 'concept_name': 'Disease due to Coronaviridae', 'concept_code': '27619001', 'metrics': {'1': {'count': 10208, 'prevalence': 1.0}}, 'source_cohorts': [1], 'parent_ids': [440029]}, {'concept_id': 439676, 'concept_name': 'Coronavirus infection', 'concept_code': '186747009', 'metrics': {'1': {'count': 10208, 'prevalence': 1.0}}, 'source_cohorts': [1], 'parent_ids': [4100065]}, {'concept_id': 37311061, 'concept_name': 'COVID-19', 'concept_code': '840539006', 'metrics': {'1': {'count': 10208, 'prevalence': 1.0}}, 'source_cohorts': [1], 'parent_ids': [439676]}]\n"
     ]
    }
   ],
   "source": [
    "root_nodes = cohort_concept_hierarchy.get_root_nodes()\n",
    "leaf_nodes = cohort_concept_hierarchy.get_leaf_nodes()\n",
    "infection_node = cohort_concept_hierarchy.get_node(432250) # disorder due to infection\n",
    "for index, root in enumerate(root_nodes):\n",
    "    print(f'root node {index} info - name: {root.name}, code: {root.code}')\n",
    "    print(f'root metric info - {root.get_metrics(1)}')\n",
    "for index, leaf in enumerate(leaf_nodes):    \n",
    "    print(f'leaf node {index} info - name: {leaf.name}, code: {leaf.code}')\n",
    "    print(f'leaf metric info - {leaf.get_metrics(1)}')\n",
    "print(f'infection_node info - name: {infection_node.name}, code: {infection_node.code}')\n",
    "print(f'infection_node metric info - {infection_node.get_metrics(1)}')\n",
    "print(f'infection_node union metric info - {infection_node.get_union_metrics()}')\n",
    "print(f'serialized infection_node dict info - {infection_node.to_dict()}')\n",
    "\n",
    "print('print all concept nodes being iterated in the concept hierarchy starting from the root node in breadth-first order:')\n",
    "for n in cohort_concept_hierarchy.iter_nodes(441840):\n",
    "    print(f'({n.id}, {n.name})')\n",
    "print('print all concept nodes being iterated in the concept hierarchy starting from the root node in depth-first order:')\n",
    "for n in cohort_concept_hierarchy.iter_nodes(441840, order=\"dfs\"):\n",
    "    print(f'({n.id}, {n.name})')\n",
    "print('print serialized dict of all concept nodes being iterated in the concept hierarchy starting from the root node in depth-first order:')\n",
    "print(list(cohort_concept_hierarchy.iter_nodes(441840, order=\"dfs\", serialization=True)))"
   ]
  },
  {
   "cell_type": "markdown",
   "id": "d8e53808-cac2-41c7-9d60-f7a3b661ff6f",
   "metadata": {},
   "source": [
    "---\n",
    "\n",
    "### Final cleanup to ensure database connections are closed"
   ]
  },
  {
   "cell_type": "code",
   "execution_count": 6,
   "id": "128c7b02-faef-4a35-97a6-c92baa5a37dd",
   "metadata": {},
   "outputs": [
    {
     "name": "stdout",
     "output_type": "stream",
     "text": [
      "Connection to BiasDatabase closed.\n",
      "Connection to the OMOP CDM database closed.\n"
     ]
    }
   ],
   "source": [
    "bias.cleanup()"
   ]
  },
  {
   "cell_type": "markdown",
   "id": "e3ea28f8",
   "metadata": {},
   "source": [
    "### ✅ Summary\n",
    "\n",
    "In this tutorial, you learned how to use the BiasAnalyzer package to explore clinical concept prevalence in a cohort. Exploring clinical concept prevalence in a cohort allows you to explore which clinical concepts are most prevalent in your cohort and support deeper investigations into potential sources of cohort selection bias. \n",
    "  \n",
    "For more information, refer to the [BiasAnalyzer GitHub repo](https://github.com/VACLab/BiasAnalyzerCore) and the [README file](https://github.com/VACLab/BiasAnalyzerCore/blob/main/README.md).\n"
   ]
  },
  {
   "cell_type": "code",
   "execution_count": null,
   "id": "51f92fa3-77ca-4cb2-99e3-9b0f1e719202",
   "metadata": {},
   "outputs": [],
   "source": []
  }
 ],
 "metadata": {
  "kernelspec": {
   "display_name": "Python (biasanalyzer)",
   "language": "python",
   "name": "biasanalyzer-py3.8"
  },
  "language_info": {
   "codemirror_mode": {
    "name": "ipython",
    "version": 3
   },
   "file_extension": ".py",
   "mimetype": "text/x-python",
   "name": "python",
   "nbconvert_exporter": "python",
   "pygments_lexer": "ipython3",
   "version": "3.8.10"
  }
 },
 "nbformat": 4,
 "nbformat_minor": 5
}
