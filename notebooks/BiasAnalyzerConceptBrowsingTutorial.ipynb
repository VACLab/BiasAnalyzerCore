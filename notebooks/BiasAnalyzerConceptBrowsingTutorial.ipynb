{
 "cells": [
  {
   "attachments": {},
   "cell_type": "markdown",
   "id": "d719bac9-2b20-4792-8a1f-3272f3e42a8b",
   "metadata": {},
   "source": [
    "# Using BiasAnalyzer for Cohort Concept Prevalence Exploration\n",
    "\n",
    "This tutorial demonstrates how to use the `BiasAnalyzer` package to browse and explore OMOP concepts. In the OMOP (Observational Medical Outcomes Partnership) CDM (Common Data Model), a **concept** refers to a coded term from a standardized medical vocabulary, uniquely identified by a **concept ID**. All clinical events in OMOP, such as conditions, drug exposures, procedures, measurements, and events, are represented as concepts.\n",
    "\n",
    "---\n",
    "\n",
    "### Overview\n",
    "\n",
    "**Objective**:  \n",
    "Learn how to browse and explore OMOP concepts using `BiasAnalyzer`.\n",
    "\n",
    "**Before You Begin**:  \n",
    "The `BiasAnalyzer` package is currently in active development and has not yet been officially released on PyPI.\n",
    "You can install it in one of the two ways:\n",
    "\n",
    "- **Install from GitHub (recommended during development)**:\n",
    "```bash\n",
    "pip install git+https://github.com/vaclab/BiasAnalyzerCore.git\n",
    "```\n",
    "- **Install from PyPI (once the pacakge is officially released)**:\n",
    "```bash\n",
    "pip install biasanalyzer\n",
    "```\n",
    "\n",
    "For full setup and usage instructions, refer to the [README](https://github.com/VACLab/BiasAnalyzerCore/blob/main/README.md).\n",
    "\n",
    "---\n",
    "\n",
    "\n",
    "### Preparation for OMOP concept exploration\n",
    "Import the `BIAS` class from the `api` module of the `BiasAnalyzer` package, create an object `bias` of the `BIAS` class, specify OMOP CDM database configurations on the `bias` object, and set OMOP CDM database to enable connection to the database. Refer to the [Cohort Exploration Tutorial](./BiasAnalyzerCohortsTutorial.ipynb) for more details."
   ]
  },
  {
   "cell_type": "code",
   "execution_count": 1,
   "id": "6dc76f46",
   "metadata": {},
   "outputs": [
    {
     "name": "stdout",
     "output_type": "stream",
     "text": [
      "configuration specified in ../config.yaml loaded successfully\n",
      "Connected to the OMOP CDM database (read-only).\n",
      "Cohort Definition table created.\n",
      "Cohort table created.\n"
     ]
    }
   ],
   "source": [
    "from biasanalyzer.api import BIAS\n",
    "\n",
    "bias = BIAS()\n",
    "\n",
    "bias.set_config('../config.yaml')\n",
    "\n",
    "bias.set_root_omop()"
   ]
  },
  {
   "cell_type": "markdown",
   "id": "8731e481",
   "metadata": {},
   "source": [
    "**Now that you have connected to your OMOP CDM database, you are ready to browse and explore OMOP concepts.** \n",
    "\n",
    "---\n",
    "\n",
    "### Explore OMOP domains and vocabularies\n",
    "Since each OMOP concept is linked to a domain and vocabulary, it is helpful to first understand which domains and vocabularies are available before exploring concepts. You can retrieve available OMOP domains and their associated vocabularies using the `get_domains_and_vocabularies()` method on the `bias` object. This function returns a list of dictionaries, where each dictionary contains a `domain_id` and a `vocabulary_id`. The list is sorted alphabetically by `domain_id` and then by `vocabulary_id`."
   ]
  },
  {
   "cell_type": "code",
   "execution_count": 2,
   "id": "51969248-f348-4f0d-914f-bb908183e3f1",
   "metadata": {},
   "outputs": [
    {
     "name": "stdout",
     "output_type": "stream",
     "text": [
      "               domain_id         vocabulary_id\n",
      "0              Condition                 HCPCS\n",
      "1              Condition                 ICD10\n",
      "2              Condition               ICD10CM\n",
      "3              Condition                ICD9CM\n",
      "4              Condition                 ICDO3\n",
      "5              Condition        OMOP Extension\n",
      "6              Condition                SNOMED\n",
      "7       Condition/Device               ICD10CM\n",
      "8         Condition/Meas               ICD10CM\n",
      "9       Condition Status      Condition Status\n",
      "10                  Cost                  Cost\n",
      "11              Currency              Currency\n",
      "12                Device                 HCPCS\n",
      "13                Device              ICD10PCS\n",
      "14                Device                   NDC\n",
      "15                Device                SNOMED\n",
      "16                Device                   SPL\n",
      "17                  Drug                   ATC\n",
      "18                  Drug                 HCPCS\n",
      "19                  Drug              ICD10PCS\n",
      "20                  Drug                   NDC\n",
      "21                  Drug                RxNorm\n",
      "22                  Drug      RxNorm Extension\n",
      "23                  Drug                SNOMED\n",
      "24                  Drug                   SPL\n",
      "25               Episode               Episode\n",
      "26             Ethnicity             Ethnicity\n",
      "27                Gender                Gender\n",
      "28                Gender                SNOMED\n",
      "29             Geography                   OSM\n",
      "30             Geography             US Census\n",
      "31           Measurement                 HCPCS\n",
      "32           Measurement                 ICD10\n",
      "33           Measurement               ICD10CM\n",
      "34           Measurement                ICD9CM\n",
      "35           Measurement                 LOINC\n",
      "36           Measurement        OMOP Extension\n",
      "37           Measurement                SNOMED\n",
      "38            Meas Value                 LOINC\n",
      "39            Meas Value                SNOMED\n",
      "40   Meas Value Operator                SNOMED\n",
      "41              Metadata                   CDM\n",
      "42              Metadata         Concept Class\n",
      "43              Metadata                Domain\n",
      "44              Metadata              Metadata\n",
      "45              Metadata                  None\n",
      "46              Metadata          Relationship\n",
      "47              Metadata                SNOMED\n",
      "48              Metadata            Vocabulary\n",
      "49           Observation                 HCPCS\n",
      "50           Observation                 ICD10\n",
      "51           Observation               ICD10CM\n",
      "52           Observation                ICD9CM\n",
      "53           Observation                 ICDO3\n",
      "54           Observation                 LOINC\n",
      "55           Observation                  NUCC\n",
      "56           Observation        OMOP Extension\n",
      "57           Observation                SNOMED\n",
      "58           Observation                   SPL\n",
      "59           Observation   UB04 Pri Typ of Adm\n",
      "60           Observation         UB04 Typ bill\n",
      "61                 Payer                 PHDSC\n",
      "62                  Plan                  Plan\n",
      "63      Plan Stop Reason      Plan Stop Reason\n",
      "64             Procedure                 HCPCS\n",
      "65             Procedure                 ICD10\n",
      "66             Procedure               ICD10CM\n",
      "67             Procedure              ICD10PCS\n",
      "68             Procedure                ICD9CM\n",
      "69             Procedure              ICD9Proc\n",
      "70             Procedure                SNOMED\n",
      "71              Provider                  ABMS\n",
      "72              Provider    Medicare Specialty\n",
      "73              Provider                  NUCC\n",
      "74              Provider                SNOMED\n",
      "75                  Race                  Race\n",
      "76                  Race                SNOMED\n",
      "77          Relationship                SNOMED\n",
      "78          Revenue Code   Korean Revenue Code\n",
      "79          Revenue Code          Revenue Code\n",
      "80                 Route                SNOMED\n",
      "81    Spec Anatomic Site                SNOMED\n",
      "82   Spec Disease Status                SNOMED\n",
      "83              Specimen                SNOMED\n",
      "84               Sponsor               Sponsor\n",
      "85          Type Concept        Condition Type\n",
      "86          Type Concept             Cost Type\n",
      "87          Type Concept            Death Type\n",
      "88          Type Concept           Device Type\n",
      "89          Type Concept             Drug Type\n",
      "90          Type Concept             Meas Type\n",
      "91          Type Concept             Note Type\n",
      "92          Type Concept      Observation Type\n",
      "93          Type Concept       Obs Period Type\n",
      "94          Type Concept        Procedure Type\n",
      "95          Type Concept                SNOMED\n",
      "96          Type Concept          Type Concept\n",
      "97          Type Concept            Visit Type\n",
      "98                  Unit                SNOMED\n",
      "99                  Unit                  UCUM\n",
      "100                Visit  CMS Place of Service\n",
      "101                Visit    Medicare Specialty\n",
      "102                Visit                  NUCC\n",
      "103                Visit                SNOMED\n",
      "104                Visit  UB04 Point of Origin\n",
      "105                Visit    UB04 Pt dis status\n",
      "106                Visit         UB04 Typ bill\n",
      "107                Visit                 Visit\n"
     ]
    }
   ],
   "source": [
    "import pandas as pd\n",
    "pd.set_option('display.max_rows', None)\n",
    "\n",
    "domains_and_vocabs = bias.get_domains_and_vocabularies()\n",
    "print(pd.DataFrame(domains_and_vocabs))"
   ]
  },
  {
   "cell_type": "markdown",
   "id": "22edda35",
   "metadata": {},
   "source": [
    "---\n",
    "\n",
    "### Exploring OMOP concepts\n",
    "\n",
    "You can explore OMOP concepts using the `get_concepts(search_term, domain=None, vocabulary=None)` method on the `bias` object. To narrow down your search, you should provide a search term along with a domain, a vocabulary, or both. Since the OMOP vocabulary contains a vast number of concepts, filtering by domain and/or vocabulary helps constrain the search space and keeps the number of results manageable. "
   ]
  },
  {
   "cell_type": "code",
   "execution_count": 3,
   "id": "b1415805-b065-40b8-b2cd-6db6f5f9ca41",
   "metadata": {
    "tags": []
   },
   "outputs": [
    {
     "name": "stdout",
     "output_type": "stream",
     "text": [
      "   concept_id                                       concept_name  \\\n",
      "0      703440  COVID-19 confirmed using clinical diagnostic c...   \n",
      "1      703441              COVID-19 confirmed by laboratory test   \n",
      "2      703445  Low risk category for developing complication ...   \n",
      "3      703446  Moderate risk category for developing complica...   \n",
      "4      703447  High risk category for developing complication...   \n",
      "5    37310269                                           COVID-19   \n",
      "6    37311061                                           COVID-19   \n",
      "\n",
      "  valid_start_date valid_end_date  domain_id vocabulary_id  \n",
      "0       2020-04-01     2099-12-31  Condition        SNOMED  \n",
      "1       2020-04-01     2099-12-31  Condition        SNOMED  \n",
      "2       2020-04-01     2099-12-31  Condition        SNOMED  \n",
      "3       2020-04-01     2099-12-31  Condition        SNOMED  \n",
      "4       2020-04-01     2099-12-31  Condition        SNOMED  \n",
      "5       2020-02-04     2020-10-28  Condition        SNOMED  \n",
      "6       2020-01-31     2099-12-31  Condition        SNOMED  \n"
     ]
    }
   ],
   "source": [
    "concepts = bias.get_concepts(\"COVID-19\", \"Condition\", \"SNOMED\")\n",
    "print(pd.DataFrame(concepts))"
   ]
  },
  {
   "cell_type": "markdown",
   "id": "10305fac-8ae3-49ca-8542-47d0a0636f97",
   "metadata": {},
   "source": [
    "———————————————\n",
    "\n",
    "### Exploring concept hierarchy\n",
    "\n",
    "**Retrieve concept hierarchy**: You can retrieve the concept hierarchy for a specific OMOP concept using the `get_concept_hierarchy(concept_id)` method on the `bias` object. The method returns two dictionaries: the **ancestor hierarchy** representing the concept's lineage upward, and the descendant hierarchy representing the concept's children and their branches. Each dictionary has a nested structure with two main keys: \n",
    "- `details`: a dictionary containing metadata about the current concept node, including `concept_id`, `concept_name`, `vocabulary_id`, and `concept_code`\n",
    "-  `parents` (for the ancestor hierarchy) or `children` (for the descendant hierarchy): a list of parent or child concept nodes, respectively\n",
    "\n",
    "A progress bar is displayed during execution to indicate the progress of computing the concept's hierarchical relationships."
   ]
  },
  {
   "cell_type": "code",
   "execution_count": 4,
   "id": "d539b8df-2bf4-42ec-abc5-36fa0238cea1",
   "metadata": {},
   "outputs": [
    {
     "data": {
      "application/vnd.jupyter.widget-view+json": {
       "model_id": "2452988eafb64ccd8caf3eec8004c453",
       "version_major": 2,
       "version_minor": 0
      },
      "text/plain": [
       "Concept Hierarchy:   0%|          | 0/3 [00:00<?, ?stage/s]"
      ]
     },
     "metadata": {},
     "output_type": "display_data"
    }
   ],
   "source": [
    "# get parent and children concept hierarchical tree for COVID-19 (SNOMED id: 37311061)\n",
    "parent_concept_tree, children_concept_tree = bias.get_concept_hierarchy(37311061)"
   ]
  },
  {
   "cell_type": "markdown",
   "id": "82aaaa5c-6ab8-4fce-800e-c30735b1c75e",
   "metadata": {},
   "source": [
    "**Visualize concept hierarchy**: You can visualize a concept hierarchy using the `display_concept_tree(concept_tree, level=0, show_in_text_format=True)` method on the `bias` object. This method supports two display modes:\n",
    "- Text-based visualization (`show_in_text_format=True`): Displays an indented tree with upward and downward arrows to indicate parent-child relationships. This is the default and more robust display mode.\n",
    "- Interactive widget visualization (`show_in_text_format=False`): Uses a `ipytree`-based widget to render the concept hierarchy as an expandable/collapsible tree, ideal for interactive exploration in supported Jupyter environments.\n",
    "  - **Note**: The `ipytree`-based interactive widget may display frontend warnings or partial rendering issues in **JupyterLab 4.x** or above due to compatibility limitations of the `ipytree` widget. Despite these warnings, the tree should remain functional. This feature is optional and recommended to be used in environments where full `ipytree` support is available.\n",
    "\n",
    "For maximum compatibility, the text-based display mode is used by default."
   ]
  },
  {
   "cell_type": "code",
   "execution_count": 5,
   "id": "f37d30ba-aa23-4474-9d09-0db8ffb15c53",
   "metadata": {},
   "outputs": [
    {
     "name": "stdout",
     "output_type": "stream",
     "text": [
      "parent concept hierarchy for COVID-19 in text format:\n",
      "🔼 COVID-19 (ID: 37311061, Code: 840539006)\n",
      "  🔼 Clinical finding (ID: 441840, Code: 404684003)\n",
      "  🔼 Viral disease (ID: 440029, Code: 34014006)\n",
      "  🔼 Disease (ID: 4274025, Code: 64572001)\n",
      "  🔼 Coronavirus infection (ID: 439676, Code: 186747009)\n",
      "  🔼 Disease due to Coronaviridae (ID: 4100065, Code: 27619001)\n",
      "  🔼 Disorder due to infection (ID: 432250, Code: 40733004)\n",
      "\n",
      "children concept hierarchy for COVID-19 in text format:\n",
      "🔽 COVID-19 (ID: 37311061, Code: 840539006)\n",
      "  🔽 Lymphocytopenia due to Severe acute respiratory syndrome coronavirus 2 (ID: 3661631, Code: 866151004)\n",
      "  🔽 Otitis media due to disease caused by Severe acute respiratory syndrome coronavirus 2 (ID: 37310254, Code: 1240521000000100)\n",
      "  🔽 Respiratory infection caused by COVID-19 (ID: 756039, Code: OMOP4873907)\n",
      "    🔽 Acute bronchitis caused by SARS-CoV-2 (ID: 3661405, Code: 138389411000119105)\n",
      "    🔽 Pneumonia caused by SARS-CoV-2 (ID: 3661408, Code: 882784691000119100)\n",
      "    🔽 Lower respiratory infection caused by SARS-CoV-2 (ID: 3663281, Code: 880529761000119102)\n",
      "      🔽 Pneumonia caused by SARS-CoV-2 (ID: 3661408, Code: 882784691000119100)\n",
      "      🔽 Acute bronchitis caused by SARS-CoV-2 (ID: 3661405, Code: 138389411000119105)\n",
      "      🔽 Bronchitis caused by COVID-19 (ID: 756031, Code: OMOP4873909)\n",
      "        🔽 Acute bronchitis caused by SARS-CoV-2 (ID: 3661405, Code: 138389411000119105)\n",
      "    🔽 Bronchitis caused by COVID-19 (ID: 756031, Code: OMOP4873909)\n",
      "      🔽 Acute bronchitis caused by SARS-CoV-2 (ID: 3661405, Code: 138389411000119105)\n",
      "    🔽 Infection of upper respiratory tract caused by Severe acute respiratory syndrome coronavirus 2 (ID: 37310286, Code: 1240541000000107)\n",
      "  🔽 Encephalopathy due to disease caused by Severe acute respiratory syndrome coronavirus 2 (ID: 37310284, Code: 1240561000000108)\n",
      "  🔽 Cardiomyopathy due to disease caused by Severe acute respiratory syndrome coronavirus 2 (ID: 3656667, Code: 119731000146105)\n",
      "  🔽 Acute bronchitis caused by SARS-CoV-2 (ID: 3661405, Code: 138389411000119105)\n",
      "  🔽 Acute kidney injury due to disease caused by Severe acute respiratory syndrome coronavirus 2 (ID: 3661748, Code: 870589006)\n",
      "  🔽 Thrombocytopenia due to Severe acute respiratory syndrome coronavirus 2 (ID: 3661632, Code: 866152006)\n",
      "  🔽 Conjunctivitis due to disease caused by Severe acute respiratory syndrome coronavirus 2 (ID: 3656668, Code: 119741000146102)\n",
      "  🔽 Pneumonia caused by SARS-CoV-2 (ID: 3661408, Code: 882784691000119100)\n",
      "  🔽 Lower respiratory infection caused by SARS-CoV-2 (ID: 3663281, Code: 880529761000119102)\n",
      "    🔽 Pneumonia caused by SARS-CoV-2 (ID: 3661408, Code: 882784691000119100)\n",
      "    🔽 Acute bronchitis caused by SARS-CoV-2 (ID: 3661405, Code: 138389411000119105)\n",
      "    🔽 Bronchitis caused by COVID-19 (ID: 756031, Code: OMOP4873909)\n",
      "      🔽 Acute bronchitis caused by SARS-CoV-2 (ID: 3661405, Code: 138389411000119105)\n",
      "  🔽 Gastroenteritis caused by SARS-CoV-2 (severe acute respiratory syndrome coronavirus 2) (ID: 37310283, Code: 1240571000000101)\n",
      "  🔽 Fever caused by Severe acute respiratory syndrome coronavirus 2 (ID: 3661885, Code: 119751000146104)\n",
      "  🔽 Acute respiratory distress syndrome due to disease caused by Severe acute respiratory syndrome coronavirus 2 (ID: 3661406, Code: 674814021000119106)\n",
      "  🔽 Myocarditis due to disease caused by Severe acute respiratory syndrome coronavirus 2 (ID: 37310287, Code: 1240531000000103)\n",
      "  🔽 Rhabdomyolysis due to disease caused by Severe acute respiratory syndrome coronavirus 2 (ID: 3655977, Code: 870591003)\n",
      "  🔽 Bronchitis caused by COVID-19 (ID: 756031, Code: OMOP4873909)\n",
      "    🔽 Acute bronchitis caused by SARS-CoV-2 (ID: 3661405, Code: 138389411000119105)\n",
      "  🔽 Asymptomatic SARS-CoV-2 (ID: 3662381, Code: 189486241000119100)\n",
      "  🔽 Infection of upper respiratory tract caused by Severe acute respiratory syndrome coronavirus 2 (ID: 37310286, Code: 1240541000000107)\n",
      "  🔽 Sepsis due to disease caused by Severe acute respiratory syndrome coronavirus 2 (ID: 3655975, Code: 870588003)\n",
      "  🔽 Dyspnea caused by Severe acute respiratory syndrome coronavirus 2 (ID: 3656669, Code: 119981000146107)\n",
      "  🔽 Acute hypoxemic respiratory failure due to disease caused by Severe acute respiratory syndrome coronavirus 2 (ID: 3655976, Code: 870590002)\n",
      "\n"
     ]
    }
   ],
   "source": [
    "print('parent concept hierarchy for COVID-19 in text format:')\n",
    "print(bias.display_concept_tree(parent_concept_tree))\n",
    "print('children concept hierarchy for COVID-19 in text format:')\n",
    "print(bias.display_concept_tree(children_concept_tree))"
   ]
  },
  {
   "cell_type": "code",
   "execution_count": 6,
   "id": "a34adbb8-4a28-4bd2-ada2-21f7a4b2ac90",
   "metadata": {},
   "outputs": [
    {
     "name": "stdout",
     "output_type": "stream",
     "text": [
      "parent concept hierarchy for COVID-19 in widget tree format:\n"
     ]
    },
    {
     "data": {
      "application/vnd.jupyter.widget-view+json": {
       "model_id": "b9dded3e89044bb0bf93db97477bd1b3",
       "version_major": 2,
       "version_minor": 0
      },
      "text/plain": [
       "VBox(children=(Label(value='Concept Hierarchy'), Tree(nodes=(Node(name='🔼 COVID-19 (ID: 37311061, Code: 840539…"
      ]
     },
     "metadata": {},
     "output_type": "display_data"
    },
    {
     "name": "stdout",
     "output_type": "stream",
     "text": [
      "children concept hierarchy for COVID-19 in widget tree format:\n"
     ]
    },
    {
     "data": {
      "application/vnd.jupyter.widget-view+json": {
       "model_id": "b202439604dd467db526a747bc2dea6d",
       "version_major": 2,
       "version_minor": 0
      },
      "text/plain": [
       "VBox(children=(Label(value='Concept Hierarchy'), Tree(nodes=(Node(name='🔽 COVID-19 (ID: 37311061, Code: 840539…"
      ]
     },
     "metadata": {},
     "output_type": "display_data"
    },
    {
     "data": {
      "application/vnd.jupyter.widget-view+json": {
       "model_id": "d75757156a35401caac73390fc12f6bc",
       "version_major": 2,
       "version_minor": 0
      },
      "text/plain": [
       "Node(name='🔽 COVID-19 (ID: 37311061, Code: 840539006)', nodes=(Node(name='🔽 Lymphocytopenia due to Severe acut…"
      ]
     },
     "execution_count": 6,
     "metadata": {},
     "output_type": "execute_result"
    }
   ],
   "source": [
    "print(f'parent concept hierarchy for COVID-19 in widget tree format:')\n",
    "bias.display_concept_tree(parent_concept_tree,  show_in_text_format=False)\n",
    "print(f'children concept hierarchy for COVID-19 in widget tree format:')\n",
    "bias.display_concept_tree(children_concept_tree, show_in_text_format=False)"
   ]
  },
  {
   "cell_type": "markdown",
   "id": "d8e53808-cac2-41c7-9d60-f7a3b661ff6f",
   "metadata": {},
   "source": [
    "---\n",
    "\n",
    "### Final cleanup to ensure database connections are closed"
   ]
  },
  {
   "cell_type": "code",
   "execution_count": 7,
   "id": "128c7b02-faef-4a35-97a6-c92baa5a37dd",
   "metadata": {},
   "outputs": [
    {
     "name": "stdout",
     "output_type": "stream",
     "text": [
      "Connection to BiasDatabase closed.\n",
      "Connection to the OMOP CDM database closed.\n"
     ]
    }
   ],
   "source": [
    "bias.cleanup()"
   ]
  },
  {
   "cell_type": "markdown",
   "id": "e3ea28f8",
   "metadata": {},
   "source": [
    "### ✅ Summary\n",
    "\n",
    "In this tutorial, you learned how to use the BiasAnalyzer package to explore OMOP clinical concepts in the context of their associated domains and vocabularies. You also explored how to use BiasAnalyzer APIs to retrieve and visualize concept hierarchies, including ancestor and descendant relationships, in a tree structure.\n",
    "  \n",
    "For more information, refer to the [BiasAnalyzer GitHub repo](https://github.com/VACLab/BiasAnalyzerCore) and the [README file](https://github.com/VACLab/BiasAnalyzerCore/blob/main/README.md).\n"
   ]
  }
 ],
 "metadata": {
  "kernelspec": {
   "display_name": "Python (biasanalyzer)",
   "language": "python",
   "name": "biasanalyzer-py3.8"
  },
  "language_info": {
   "codemirror_mode": {
    "name": "ipython",
    "version": 3
   },
   "file_extension": ".py",
   "mimetype": "text/x-python",
   "name": "python",
   "nbconvert_exporter": "python",
   "pygments_lexer": "ipython3",
   "version": "3.8.10"
  }
 },
 "nbformat": 4,
 "nbformat_minor": 5
}
