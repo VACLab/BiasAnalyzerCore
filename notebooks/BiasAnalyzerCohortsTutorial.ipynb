{
 "cells": [
  {
   "cell_type": "markdown",
   "id": "3bf748e7",
   "metadata": {},
   "source": [
    "# BiasAnalyzer Tutorial: Exploring Cohorts\n",
    "\n",
    "This tutorial demonstrates how to use the `BiasAnalyzer` package to create and analyze cohorts by connecting to an [OMOP (Observational Medical Outcomes Partnership) CDM (Common Data Model)](https://www.ohdsi.org/data-standardization/) database. The currently supported database types include postgreSQL and duckDB. \n",
    "\n",
    "---\n",
    "\n",
    "### Overview\n",
    "\n",
    "**Objective**:  \n",
    "Guide users through the creation, exploration, and comparison of a baseline and a study cohort using `BiasAnalyzer`, illustrating how to define, explore, and compare them.\n",
    "\n",
    "**Before You Begin**:\n",
    "The `BiasAnalyzer` package is currently in active development and has not yet been officially released on PyPI.\n",
    "You can install it in one of the two ways:\n",
    "\n",
    "- **Install from GitHub (recommended during development)**:\n",
    "```bash\n",
    "pip install git+https://github.com/vaclab/BiasAnalyzerCore.git\n",
    "```\n",
    "- **Install from PyPI (once the pacakge is officially released)**:\n",
    "```bash\n",
    "pip install biasanalyzer\n",
    "```\n",
    "\n",
    "For full setup and usage instructions, refer to the [README](https://github.com/VACLab/BiasAnalyzerCore/blob/main/README.md).\n",
    "\n",
    "---\n"
   ]
  },
  {
   "cell_type": "markdown",
   "id": "c5618746",
   "metadata": {},
   "source": [
    "### Preparation for cohort creation\n",
    "**Preparation step 1**: Import the `BIAS` class from the `api` module of the `BiasAnalyzer` package"
   ]
  },
  {
   "cell_type": "code",
   "execution_count": 1,
   "id": "4de3a621",
   "metadata": {},
   "outputs": [],
   "source": [
    "from biasanalyzer.api import BIAS"
   ]
  },
  {
   "cell_type": "markdown",
   "id": "46559918",
   "metadata": {},
   "source": [
    "**Preparation step 2**: Create an object of the `BIAS` class"
   ]
  },
  {
   "cell_type": "code",
   "execution_count": 2,
   "id": "86862060",
   "metadata": {},
   "outputs": [],
   "source": [
    "bias = BIAS()"
   ]
  },
  {
   "cell_type": "markdown",
   "id": "ff3bdfd8",
   "metadata": {},
   "source": [
    "**Preparation step 3**: Specifiy OMOP Common Data Model (CDM) database configurations on the `bias` object to allow connection to the OMOP CDM database for cohort creation and selection bias analysis. A configuration file must include root_omop_cdm_database key. An example of the configuration file is shown below:\n",
    "```\n",
    "root_omop_cdm_database:\n",
    "  database_type: duckdb   # set it to one of the two supported types: postgresql or duckdb\n",
    "  username: test_username\n",
    "  password: test_password\n",
    "  hostname: test_db_hostname\n",
    "  database: \"shared_test_db.duckdb\"    # use a shared name for an in-memory duckdb or database name for postgresql\n",
    "  port: 5432\n",
    "```"
   ]
  },
  {
   "cell_type": "code",
   "execution_count": 3,
   "id": "83e992d1",
   "metadata": {},
   "outputs": [
    {
     "name": "stdout",
     "output_type": "stream",
     "text": [
      "configuration specified in ../config.yaml loaded successfully\n"
     ]
    }
   ],
   "source": [
    "bias.set_config('../config.yaml')"
   ]
  },
  {
   "cell_type": "markdown",
   "id": "6d9c7881-0029-470c-ae84-6eb420c10ae9",
   "metadata": {},
   "source": [
    "**Preparation step 4**: Set OMOP CDM database as specified in the configuration on the `bias` object to connect to the OMOP CDM database and create Cohort Definition metadata table and Cohort data table."
   ]
  },
  {
   "cell_type": "code",
   "execution_count": 4,
   "id": "283156f8-63da-42a5-bbd7-ee2b7719652c",
   "metadata": {
    "tags": []
   },
   "outputs": [
    {
     "name": "stdout",
     "output_type": "stream",
     "text": [
      "Connected to the OMOP CDM database (read-only).\n",
      "Cohort Definition table created.\n",
      "Cohort table created.\n"
     ]
    }
   ],
   "source": [
    "bias.set_root_omop()"
   ]
  },
  {
   "cell_type": "markdown",
   "id": "c7219629-1a30-44af-9ec5-5eb9b4a52c5a",
   "metadata": {},
   "source": [
    "**Now that you have connected to your OMOP CDM database, you can start to use the APIs to explore your data.** The rest of this notebook illustrates how to create and explore a baseline and a study cohort, and then compare them using the BiasAnalyzer APIs.\n",
    "\n",
    "---\n",
    "\n",
    "### Baseline cohort creation and exploration\n",
    "**Baseline cohort creation**: To create a baseline cohort of young female patients, use the `create_cohort(cohort_name, cohort_description, query_or_yaml_file, created_by)` method on the `bias` object. You'll pass the name of the cohort as the first argument, the description of the cohort as the second argument, a yaml file that specifies cohort inclusion and exclusion criteria or a cohort selection SQL query as the third argument, and the cohort owner's name indicating who owns or creates this cohort as the fourth argument. The method will show a progress bar to indicate cohort creation progress over three stages."
   ]
  },
  {
   "cell_type": "code",
   "execution_count": 5,
   "id": "a68f3eaf-92fd-49a2-9768-d685d826fd57",
   "metadata": {
    "tags": []
   },
   "outputs": [
    {
     "name": "stdout",
     "output_type": "stream",
     "text": [
      "template_path: /home/hongyi/BiasAnalyzer/biasanalyzer/sql_templates\n"
     ]
    },
    {
     "data": {
      "application/vnd.jupyter.widget-view+json": {
       "model_id": "d51f3cdd95894de3ae541cae8ec581da",
       "version_major": 2,
       "version_minor": 0
      },
      "text/plain": [
       "Cohort creation:   0%|                                 | 0/3 [00:00<?, ?stage/s]"
      ]
     },
     "metadata": {},
     "output_type": "display_data"
    },
    {
     "name": "stdout",
     "output_type": "stream",
     "text": [
      "configuration specified in ../tests/assets/cohort_creation/test_cohort_creation_condition_occurrence_config_baseline.yaml loaded successfully\n",
      "Cohort definition inserted successfully.\n",
      "Cohort Young female patients successfully created.\n",
      "cohort created successfully\n"
     ]
    }
   ],
   "source": [
    "baseline_cohort = bias.create_cohort('Young female patients', \n",
    "                                     'A cohort of female patients born between 2000 and 2020', \n",
    "                                     '../tests/assets/cohort_creation/test_cohort_creation_condition_occurrence_config_baseline.yaml', \n",
    "                                     'system')"
   ]
  },
  {
   "cell_type": "markdown",
   "id": "c2bb8ad7-e7d0-462c-8809-e328e9253578",
   "metadata": {},
   "source": [
    "———————————————\n",
    "\n",
    "**Baseline cohort basic exploration**: Check the baseline cohort metadata and data to ensure the cohort is created successfully and get a high level idea about the cohort. Note that the SQL query string converted from the input YAML file for creating this cohort is included in the `creation_info` field of the cohort definition table as part of the cohort metadata."
   ]
  },
  {
   "cell_type": "code",
   "execution_count": 6,
   "id": "86688e7c-ca1a-434a-967a-db359c1ba48f",
   "metadata": {},
   "outputs": [
    {
     "name": "stdout",
     "output_type": "stream",
     "text": [
      "Baseline cohort definition metadata: {'id': 1, 'name': 'Young female patients', 'description': 'A cohort of female patients born between 2000 and 2020', 'created_date': datetime.date(2025, 6, 16), 'creation_info': 'WITH ranked_events_condition_occurrence AS ( SELECT person_id, condition_concept_id AS concept_id, condition_start_date AS event_start_date, condition_end_date AS event_end_date, ROW_NUMBER() OVER ( PARTITION BY person_id, condition_concept_id ORDER BY condition_start_date ASC ) AS event_instance FROM condition_occurrence ), ranked_events_drug_exposure AS ( SELECT person_id, drug_concept_id AS concept_id, drug_exposure_start_date AS event_start_date, drug_exposure_end_date AS event_end_date, ROW_NUMBER() OVER ( PARTITION BY person_id, drug_concept_id ORDER BY drug_exposure_start_date ASC ) AS event_instance FROM drug_exposure ), ranked_events_procedure_occurrence AS ( SELECT person_id, procedure_concept_id AS concept_id, procedure_date AS event_start_date, procedure_date AS event_end_date, ROW_NUMBER() OVER ( PARTITION BY person_id, procedure_concept_id ORDER BY procedure_date ASC ) AS event_instance FROM procedure_occurrence ), ranked_events_visit_occurrence AS ( SELECT person_id, visit_concept_id AS concept_id, visit_start_date AS event_start_date, visit_end_date AS event_end_date, ROW_NUMBER() OVER ( PARTITION BY person_id, visit_concept_id ORDER BY visit_start_date ASC ) AS event_instance FROM visit_occurrence ), ranked_events_measurement AS ( SELECT person_id, measurement_concept_id AS concept_id, measurement_date AS event_start_date, measurement_date AS event_end_date, ROW_NUMBER() OVER ( PARTITION BY person_id, measurement_concept_id ORDER BY measurement_date ASC ) AS event_instance FROM measurement ), ranked_events_observation AS ( SELECT person_id, observation_concept_id AS concept_id, observation_date AS event_start_date, observation_date AS event_end_date, ROW_NUMBER() OVER ( PARTITION BY person_id, observation_concept_id ORDER BY observation_date ASC ) AS event_instance FROM observation ), domain_qualifying_events AS ( SELECT person_id FROM person p ), filtered_cohort AS ( SELECT c.person_id, MIN(all_events.event_start_date) AS cohort_start_date, MAX(all_events.event_end_date) AS cohort_end_date FROM domain_qualifying_events c JOIN person p ON c.person_id = p.person_id LEFT JOIN ( SELECT person_id, condition_start_date AS event_start_date, condition_end_date AS event_end_date FROM condition_occurrence UNION ALL SELECT person_id, drug_exposure_start_date AS event_start_date, drug_exposure_end_date AS event_end_date FROM drug_exposure UNION ALL SELECT person_id, procedure_date AS event_start_date, procedure_date AS event_end_date FROM procedure_occurrence UNION ALL SELECT person_id, visit_start_date AS event_start_date, visit_end_date AS event_end_date FROM visit_occurrence UNION ALL SELECT person_id, measurement_date AS event_start_date, measurement_date AS event_end_date FROM measurement UNION ALL SELECT person_id, observation_date AS event_start_date, observation_date AS event_end_date FROM observation ) all_events ON c.person_id = all_events.person_id WHERE 1=1 AND p.gender_concept_id = 8532 AND p.year_of_birth >= 2000 AND p.year_of_birth <= 2020 GROUP BY c.person_id ) SELECT * FROM filtered_cohort f', 'created_by': 'system'}\n",
      "The total number of patients in the baseline cohort: 12360\n",
      "The first five patients in the baseline cohort: [{'subject_id': 42583, 'cohort_definition_id': 1, 'cohort_start_date': datetime.date(2020, 4, 26), 'cohort_end_date': datetime.date(2020, 5, 12)}, {'subject_id': 33685, 'cohort_definition_id': 1, 'cohort_start_date': datetime.date(2017, 12, 8), 'cohort_end_date': datetime.date(2020, 5, 10)}, {'subject_id': 74383, 'cohort_definition_id': 1, 'cohort_start_date': datetime.date(2019, 1, 31), 'cohort_end_date': datetime.date(2020, 3, 25)}, {'subject_id': 23986, 'cohort_definition_id': 1, 'cohort_start_date': datetime.date(2019, 6, 15), 'cohort_end_date': datetime.date(2020, 3, 28)}, {'subject_id': 93962, 'cohort_definition_id': 1, 'cohort_start_date': datetime.date(2019, 7, 1), 'cohort_end_date': datetime.date(2020, 5, 15)}]\n"
     ]
    }
   ],
   "source": [
    "baseline_cohort_def = baseline_cohort.metadata\n",
    "print(f'Baseline cohort definition metadata: {baseline_cohort_def}')\n",
    "baseline_cohort_data = baseline_cohort.data\n",
    "print(f'The total number of patients in the baseline cohort: {len(baseline_cohort_data)}')\n",
    "print(f'The first five patients in the baseline cohort: {baseline_cohort_data[:5]}')"
   ]
  },
  {
   "cell_type": "markdown",
   "id": "e25fea43-d14e-42cc-8072-063455336fae",
   "metadata": {},
   "source": [
    "———————————————\n",
    "\n",
    "**Baseline cohort deeper exploration**: you can get statistics on age, gender, race, and ethnicity of the baseline cohort by calling `get_stats()` method on the created baseline cohort object. You can also get cohort distributions on age and gender by calling `get_distributions()` method on the created baseline cohort object."
   ]
  },
  {
   "cell_type": "code",
   "execution_count": 7,
   "id": "b1415805-b065-40b8-b2cd-6db6f5f9ca41",
   "metadata": {
    "tags": []
   },
   "outputs": [
    {
     "name": "stdout",
     "output_type": "stream",
     "text": [
      "the baseline cohort stats: [{'total_count': 12360, 'earliest_start_date': datetime.date(2000, 2, 19), 'latest_start_date': datetime.date(2020, 5, 26), 'earliest_end_date': datetime.date(2002, 7, 20), 'latest_end_date': datetime.date(2020, 5, 27), 'min_duration_days': 0, 'max_duration_days': 7379, 'avg_duration_days': 1192.32, 'median_duration': 296, 'stddev_duration': 1779.19}]\n",
      "the baseline cohort age stats: [{'total_count': 12360, 'min_age': 0, 'max_age': 25, 'avg_age': 7.24, 'median_age': 6, 'stddev_age': 6.01}]\n",
      "the baseline cohort gender stats: [{'gender': 'female', 'gender_count': 12360, 'probability': 1.0}]\n",
      "the baseline cohort race stats: [{'race': 'Other', 'race_count': 66, 'probability': 0.01}, {'race': 'Asian', 'race_count': 878, 'probability': 0.07}, {'race': 'Black or African American', 'race_count': 1056, 'probability': 0.09}, {'race': 'White', 'race_count': 10360, 'probability': 0.84}]\n",
      "the baseline cohort ethnicity stats: [{'ethnicity': 'other', 'ethnicity_count': 12360, 'probability': 1.0}]\n"
     ]
    }
   ],
   "source": [
    "# get stats of the baseline cohort\n",
    "cohort_stats = baseline_cohort.get_stats()\n",
    "print(f'the baseline cohort stats: {cohort_stats}')\n",
    "cohort_age_stats = baseline_cohort.get_stats(\"age\")\n",
    "print(f'the baseline cohort age stats: {cohort_age_stats}')\n",
    "cohort_gender_stats = baseline_cohort.get_stats(\"gender\")\n",
    "print(f'the baseline cohort gender stats: {cohort_gender_stats}')\n",
    "cohort_race_stats = baseline_cohort.get_stats(\"race\")\n",
    "print(f'the baseline cohort race stats: {cohort_race_stats}')\n",
    "cohort_ethnicity_stats = baseline_cohort.get_stats(\"ethnicity\")\n",
    "print(f'the baseline cohort ethnicity stats: {cohort_ethnicity_stats}')"
   ]
  },
  {
   "cell_type": "code",
   "execution_count": 8,
   "id": "d54e39da-6f78-4dc1-91ae-a8c26852582a",
   "metadata": {
    "tags": []
   },
   "outputs": [
    {
     "name": "stdout",
     "output_type": "stream",
     "text": [
      "the baseline cohort age discrete probability distribution: [{'age_bin': '0-10', 'bin_count': 8230, 'probability': 0.6659}, {'age_bin': '11-20', 'bin_count': 4129, 'probability': 0.3341}, {'age_bin': '21-30', 'bin_count': 1, 'probability': 0.0001}, {'age_bin': '31-40', 'bin_count': 0, 'probability': 0.0}, {'age_bin': '41-50', 'bin_count': 0, 'probability': 0.0}, {'age_bin': '51-60', 'bin_count': 0, 'probability': 0.0}, {'age_bin': '61-70', 'bin_count': 0, 'probability': 0.0}, {'age_bin': '71-80', 'bin_count': 0, 'probability': 0.0}, {'age_bin': '81-90', 'bin_count': 0, 'probability': 0.0}, {'age_bin': '91+', 'bin_count': 0, 'probability': 0.0}]\n"
     ]
    }
   ],
   "source": [
    "# get discrete probability distribution of the age variable in the baseline cohort\n",
    "cohort_age_distr = baseline_cohort.get_distributions('age')\n",
    "print(f'the baseline cohort age discrete probability distribution: {cohort_age_distr}')"
   ]
  },
  {
   "cell_type": "markdown",
   "id": "5d92f81a-99f8-4534-bcb1-29369262c17e",
   "metadata": {},
   "source": [
    "---\n",
    "\n",
    "### Study cohort creation and exploration\n",
    "**Study cohort creation**: To create a study cohort of young female COVID patients, use the `create_cohort(cohort_name, cohort_description, query_or_yaml_file, created_by)` method on the `bias` object. You'll pass the name of the cohort as the first argument, the description of the cohort as the second argument, a yaml file that specifies cohort inclusion and exclusion criteria or a cohort selection SQL query as the third argument, and the cohort owner's name indicating who owns or creates this cohort as the fourth argument. The method will show a progress bar to indicate cohort creation progress over three stages.\n"
   ]
  },
  {
   "cell_type": "code",
   "execution_count": 9,
   "id": "e3f5ace2-6cc4-4940-a067-e1a3fc14e1ce",
   "metadata": {
    "tags": []
   },
   "outputs": [
    {
     "data": {
      "application/vnd.jupyter.widget-view+json": {
       "model_id": "8afad29563224f62b1d76a5f9f201490",
       "version_major": 2,
       "version_minor": 0
      },
      "text/plain": [
       "Cohort creation:   0%|                                 | 0/3 [00:00<?, ?stage/s]"
      ]
     },
     "metadata": {},
     "output_type": "display_data"
    },
    {
     "name": "stdout",
     "output_type": "stream",
     "text": [
      "configuration specified in ../tests/assets/cohort_creation/test_cohort_creation_condition_occurrence_config_study.yaml loaded successfully\n",
      "Cohort definition inserted successfully.\n",
      "Cohort Young female COVID patients successfully created.\n",
      "cohort created successfully\n"
     ]
    }
   ],
   "source": [
    "# create a user study cohort with young female COVID patients\n",
    "study_cohort = bias.create_cohort('Young female COVID patients', \n",
    "                                  'A cohort of female COVID patients born between 2000 and 2020', \n",
    "                                  '../tests/assets/cohort_creation/test_cohort_creation_condition_occurrence_config_study.yaml', \n",
    "                                  'system')"
   ]
  },
  {
   "cell_type": "markdown",
   "id": "cd152755-3f38-4471-854d-92320de804a8",
   "metadata": {},
   "source": [
    "———————————————\n",
    "\n",
    "**Study line cohort basic exploration**: Check the study cohort metadata and data to ensure the cohort is created successfully and get a high level idea about the cohort. Note that the SQL query string converted from the input YAML file for creating this cohort is included in the creation_info field of the cohort definition table as part of the cohort metadata."
   ]
  },
  {
   "cell_type": "code",
   "execution_count": 10,
   "id": "311b06e8-a80e-4aa3-b0b5-aa85de004c4b",
   "metadata": {},
   "outputs": [
    {
     "name": "stdout",
     "output_type": "stream",
     "text": [
      "Young female COVID-19 patient cohort definition: {'id': 2, 'name': 'Young female COVID patients', 'description': 'A cohort of female COVID patients born between 2000 and 2020', 'created_date': datetime.date(2025, 6, 16), 'creation_info': 'WITH ranked_events_condition_occurrence AS ( SELECT person_id, condition_concept_id AS concept_id, condition_start_date AS event_start_date, condition_end_date AS event_end_date, ROW_NUMBER() OVER ( PARTITION BY person_id, condition_concept_id ORDER BY condition_start_date ASC ) AS event_instance FROM condition_occurrence ), domain_qualifying_events AS ( (SELECT person_id, event_start_date, event_end_date FROM ranked_events_condition_occurrence WHERE concept_id = 37311061) ), filtered_cohort AS ( SELECT c.person_id, MIN(c.event_start_date) AS cohort_start_date, MAX(c.event_end_date) AS cohort_end_date FROM domain_qualifying_events c JOIN person p ON c.person_id = p.person_id WHERE 1=1 AND p.gender_concept_id = 8532 AND p.year_of_birth >= 2000 AND p.year_of_birth <= 2020 GROUP BY c.person_id ) SELECT * FROM filtered_cohort f', 'created_by': 'system'}\n",
      "The total number of patients in the study cohort: 10208\n",
      "The first five patients in the young female COVID-19 patient cohort: [{'subject_id': 22344, 'cohort_definition_id': 2, 'cohort_start_date': datetime.date(2020, 3, 11), 'cohort_end_date': datetime.date(2020, 4, 13)}, {'subject_id': 53949, 'cohort_definition_id': 2, 'cohort_start_date': datetime.date(2020, 2, 28), 'cohort_end_date': datetime.date(2020, 3, 11)}, {'subject_id': 80198, 'cohort_definition_id': 2, 'cohort_start_date': datetime.date(2020, 3, 5), 'cohort_end_date': datetime.date(2020, 4, 9)}, {'subject_id': 30052, 'cohort_definition_id': 2, 'cohort_start_date': datetime.date(2020, 3, 6), 'cohort_end_date': datetime.date(2020, 4, 8)}, {'subject_id': 88837, 'cohort_definition_id': 2, 'cohort_start_date': datetime.date(2020, 2, 24), 'cohort_end_date': datetime.date(2020, 3, 12)}]\n"
     ]
    }
   ],
   "source": [
    "study_cohort_def = study_cohort.metadata\n",
    "print(f'Young female COVID-19 patient cohort definition: {study_cohort_def}')\n",
    "study_cohort_data = study_cohort.data\n",
    "print(f'The total number of patients in the study cohort: {len(study_cohort_data)}')\n",
    "print(f'The first five patients in the young female COVID-19 patient cohort: {study_cohort_data[:5]}')"
   ]
  },
  {
   "cell_type": "markdown",
   "id": "0cac81eb-4006-494e-956c-5b4f5015ab20",
   "metadata": {},
   "source": [
    "———————————————\n",
    "\n",
    "**Study cohort deeper exploration**: you can get statistics on age, gender, race, and ethnicity of the study cohort by \n",
    "calling `get_stats()` method on the created study cohort object. You can also get cohort distributions on age and gender by \n",
    "calling `get_distributions()` method on the created study cohort object."
   ]
  },
  {
   "cell_type": "code",
   "execution_count": 11,
   "id": "8be5061b-cfdf-4dc0-9ef8-f18277ab9fbe",
   "metadata": {
    "tags": []
   },
   "outputs": [
    {
     "name": "stdout",
     "output_type": "stream",
     "text": [
      "the user study cohort stats: [{'total_count': 10208, 'earliest_start_date': datetime.date(2020, 1, 18), 'latest_start_date': datetime.date(2020, 3, 30), 'earliest_end_date': datetime.date(2020, 2, 7), 'latest_end_date': datetime.date(2020, 5, 3), 'min_duration_days': 8, 'max_duration_days': 37, 'avg_duration_days': 24.25, 'median_duration': 24, 'stddev_duration': 7.2}]\n",
      "the user study cohort age stats: [{'total_count': 10208, 'min_age': 0, 'max_age': 20, 'avg_age': 10.94, 'median_age': 11, 'stddev_age': 5.92}]\n",
      "the user study gender stats: [{'gender': 'female', 'gender_count': 10208, 'probability': 1.0}]\n",
      "the user study cohort race stats: [{'race': 'Other', 'race_count': 53, 'probability': 0.01}, {'race': 'Asian', 'race_count': 723, 'probability': 0.07}, {'race': 'Black or African American', 'race_count': 866, 'probability': 0.08}, {'race': 'White', 'race_count': 8566, 'probability': 0.84}]\n",
      "the user study ethnicity stats: [{'ethnicity': 'other', 'ethnicity_count': 10208, 'probability': 1.0}]\n"
     ]
    }
   ],
   "source": [
    "# get stats and distributions of the user study cohort\n",
    "study_cohort_stats = study_cohort.get_stats()\n",
    "print(f'the user study cohort stats: {study_cohort_stats}')\n",
    "study_cohort_age_stats = study_cohort.get_stats(\"age\")\n",
    "print(f'the user study cohort age stats: {study_cohort_age_stats}')\n",
    "study_cohort_gender_stats = study_cohort.get_stats(\"gender\")\n",
    "print(f'the user study gender stats: {study_cohort_gender_stats}')\n",
    "study_cohort_race_stats = study_cohort.get_stats(\"race\")\n",
    "print(f'the user study cohort race stats: {study_cohort_race_stats}')\n",
    "study_cohort_ethnicity_stats = study_cohort.get_stats(\"ethnicity\")\n",
    "print(f'the user study ethnicity stats: {study_cohort_ethnicity_stats}')"
   ]
  },
  {
   "cell_type": "code",
   "execution_count": 12,
   "id": "c7ad0b7b-21dc-4572-af21-fe1580361999",
   "metadata": {
    "tags": []
   },
   "outputs": [
    {
     "name": "stdout",
     "output_type": "stream",
     "text": [
      "the user study cohort age discrete probability distribution: [{'age_bin': '0-10', 'bin_count': 4744, 'probability': 0.4647}, {'age_bin': '11-20', 'bin_count': 5464, 'probability': 0.5353}, {'age_bin': '21-30', 'bin_count': 0, 'probability': 0.0}, {'age_bin': '31-40', 'bin_count': 0, 'probability': 0.0}, {'age_bin': '41-50', 'bin_count': 0, 'probability': 0.0}, {'age_bin': '51-60', 'bin_count': 0, 'probability': 0.0}, {'age_bin': '61-70', 'bin_count': 0, 'probability': 0.0}, {'age_bin': '71-80', 'bin_count': 0, 'probability': 0.0}, {'age_bin': '81-90', 'bin_count': 0, 'probability': 0.0}, {'age_bin': '91+', 'bin_count': 0, 'probability': 0.0}]\n"
     ]
    }
   ],
   "source": [
    "# get discrete probability distribution of the age variable in the baseline cohort\n",
    "study_cohort_age_distr = study_cohort.get_distributions('age')\n",
    "print(f'the user study cohort age discrete probability distribution: {study_cohort_age_distr}')"
   ]
  },
  {
   "cell_type": "markdown",
   "id": "d300e804-69da-4d30-80ad-a5239acba562",
   "metadata": {},
   "source": [
    "---\n",
    "\n",
    "### Baseline and study cohort comparison\n",
    "You can compare the baseline and study cohorts by calling the method `compare_cohorts(id1, id2)` on the `bias` object. Note that currently only hellinger distances between age and gender distributions of two cohorts are computed as a comparison metrics. More comparative metrics will be added in the future."
   ]
  },
  {
   "cell_type": "code",
   "execution_count": 13,
   "id": "0d03cf95-3c68-4eee-be41-5482dea68b84",
   "metadata": {
    "tags": []
   },
   "outputs": [
    {
     "name": "stdout",
     "output_type": "stream",
     "text": [
      "[{'age_hellinger_distance': 0.14447523081257604}, {'gender_hellinger_distance': 0.0}]\n"
     ]
    }
   ],
   "source": [
    "# compare the baseline and user study cohorts\n",
    "result = bias.compare_cohorts(baseline_cohort_def['id'], study_cohort_def['id'])\n",
    "print(result)"
   ]
  },
  {
   "cell_type": "markdown",
   "id": "22984b7e-0001-4add-aacb-ecf1252f2b7a",
   "metadata": {},
   "source": [
    "---\n",
    "\n",
    "### Final cleanup to ensure database connections are closed"
   ]
  },
  {
   "cell_type": "code",
   "execution_count": 14,
   "id": "128c7b02-faef-4a35-97a6-c92baa5a37dd",
   "metadata": {},
   "outputs": [
    {
     "name": "stdout",
     "output_type": "stream",
     "text": [
      "Connection to BiasDatabase closed.\n",
      "Connection to the OMOP CDM database closed.\n"
     ]
    }
   ],
   "source": [
    "bias.cleanup()"
   ]
  },
  {
   "cell_type": "markdown",
   "id": "1eddbdd7",
   "metadata": {},
   "source": [
    "### ✅ Summary\n",
    "\n",
    "In this tutorial, you learned how to connect to an OMOP CDM database, create a baseline and a study cohort, explore each created cohort, and compare two created cohorts using the BiasAnalyzer python package.\n",
    "\n",
    "For more information, refer to the [BiasAnalyzer GitHub repo](https://github.com/VACLab/BiasAnalyzerCore) and the [README file](https://github.com/VACLab/BiasAnalyzerCore/blob/main/README.md).\n"
   ]
  }
 ],
 "metadata": {
  "kernelspec": {
   "display_name": "Python (biasanalyzer)",
   "language": "python",
   "name": "biasanalyzer-py3.8"
  },
  "language_info": {
   "codemirror_mode": {
    "name": "ipython",
    "version": 3
   },
   "file_extension": ".py",
   "mimetype": "text/x-python",
   "name": "python",
   "nbconvert_exporter": "python",
   "pygments_lexer": "ipython3",
   "version": "3.8.10"
  }
 },
 "nbformat": 4,
 "nbformat_minor": 5
}
